{
  "nbformat": 4,
  "nbformat_minor": 0,
  "metadata": {
    "colab": {
      "name": "Customer_Satisfaction.ipynb",
      "provenance": [],
      "collapsed_sections": []
    },
    "kernelspec": {
      "name": "python3",
      "display_name": "Python 3"
    },
    "language_info": {
      "name": "python"
    }
  },
  "cells": [
    {
      "cell_type": "markdown",
      "metadata": {
        "id": "_3Mx3hLf1Bzp"
      },
      "source": [
        "<a id='intro'></a>\n",
        "## Introduction\n",
        "\n",
        "In this project i will go through all the 3 tidy data of customer satisfaction xlsx file. \n",
        "\n",
        "The main goal will be to determine what are the main variables that affect the overall customer satifaction for TelCo. compaany and why there is a significant decreess in it and significant increase in call volume. \n",
        "\n",
        "In addition, i will identify some recommendations that could solve this issue."
      ]
    },
    {
      "cell_type": "code",
      "metadata": {
        "id": "hoccv_LXU5Ot",
        "colab": {
          "base_uri": "https://localhost:8080/"
        },
        "outputId": "b7171e49-ed9b-4e67-dec0-ae09b47e0104"
      },
      "source": [
        "# Necessary imports\n",
        "import numpy as np\n",
        "import pandas as pd\n",
        "import matplotlib.pyplot as plt\n",
        "import seaborn as sns\n",
        "import statsmodels.api as sm \n",
        "from scipy import stats\n",
        "from sklearn.linear_model import LogisticRegression\n",
        "from sklearn.model_selection import train_test_split\n",
        "\n",
        "%matplotlib inline"
      ],
      "execution_count": 1,
      "outputs": [
        {
          "output_type": "stream",
          "text": [
            "/usr/local/lib/python3.7/dist-packages/statsmodels/tools/_testing.py:19: FutureWarning: pandas.util.testing is deprecated. Use the functions in the public API at pandas.testing instead.\n",
            "  import pandas.util.testing as tm\n"
          ],
          "name": "stderr"
        }
      ]
    },
    {
      "cell_type": "code",
      "metadata": {
        "id": "_ZoTxLLg3r2U"
      },
      "source": [
        "# import the data sheets into different data set\n",
        "customer_satisfaction= pd.read_excel('Dataset - Data Analyst Vacancy.xlsx', sheet_name='Customer Satisfaction Results')\n",
        "agen_info= pd.read_excel('Dataset - Data Analyst Vacancy.xlsx', sheet_name='Agent Information')\n",
        "account_interaction= pd.read_excel('Dataset - Data Analyst Vacancy.xlsx', sheet_name='Account Interactions')\n"
      ],
      "execution_count": 2,
      "outputs": []
    },
    {
      "cell_type": "code",
      "metadata": {
        "id": "1TnKX2Ks1rEW",
        "colab": {
          "base_uri": "https://localhost:8080/",
          "height": 391
        },
        "outputId": "572d8754-9918-405b-ed6e-0afaeb20264d"
      },
      "source": [
        "# merge the two main data sets (customer_satisfaction & account_interaction) into one data frame\n",
        "df_merge= pd.merge(customer_satisfaction,account_interaction)\n",
        "df_merge.head()"
      ],
      "execution_count": 3,
      "outputs": [
        {
          "output_type": "execute_result",
          "data": {
            "text/html": [
              "<div>\n",
              "<style scoped>\n",
              "    .dataframe tbody tr th:only-of-type {\n",
              "        vertical-align: middle;\n",
              "    }\n",
              "\n",
              "    .dataframe tbody tr th {\n",
              "        vertical-align: top;\n",
              "    }\n",
              "\n",
              "    .dataframe thead th {\n",
              "        text-align: right;\n",
              "    }\n",
              "</style>\n",
              "<table border=\"1\" class=\"dataframe\">\n",
              "  <thead>\n",
              "    <tr style=\"text-align: right;\">\n",
              "      <th></th>\n",
              "      <th>Account Number</th>\n",
              "      <th>Interaction ID</th>\n",
              "      <th>Call Date</th>\n",
              "      <th>Agent ID</th>\n",
              "      <th>1. Overall Experience?</th>\n",
              "      <th>2a. Agent Quality of Service</th>\n",
              "      <th>2b. Resolve Issue</th>\n",
              "      <th>2c. Courteous</th>\n",
              "      <th>2d. Knowledgeable</th>\n",
              "      <th>Call Reason</th>\n",
              "      <th>Call Resolution</th>\n",
              "    </tr>\n",
              "  </thead>\n",
              "  <tbody>\n",
              "    <tr>\n",
              "      <th>0</th>\n",
              "      <td>9000001</td>\n",
              "      <td>1234501</td>\n",
              "      <td>2010-04-15</td>\n",
              "      <td>1</td>\n",
              "      <td>3</td>\n",
              "      <td>2</td>\n",
              "      <td>1</td>\n",
              "      <td>3</td>\n",
              "      <td>1</td>\n",
              "      <td>Add Services</td>\n",
              "      <td>Transfer (Other Dept)</td>\n",
              "    </tr>\n",
              "    <tr>\n",
              "      <th>1</th>\n",
              "      <td>9000031</td>\n",
              "      <td>1234506</td>\n",
              "      <td>2010-04-15</td>\n",
              "      <td>1</td>\n",
              "      <td>4</td>\n",
              "      <td>3</td>\n",
              "      <td>3</td>\n",
              "      <td>4</td>\n",
              "      <td>4</td>\n",
              "      <td>Billing Dispute</td>\n",
              "      <td>Credit Account</td>\n",
              "    </tr>\n",
              "    <tr>\n",
              "      <th>2</th>\n",
              "      <td>9000060</td>\n",
              "      <td>1234521</td>\n",
              "      <td>2010-04-16</td>\n",
              "      <td>1</td>\n",
              "      <td>2</td>\n",
              "      <td>4</td>\n",
              "      <td>3</td>\n",
              "      <td>5</td>\n",
              "      <td>4</td>\n",
              "      <td>Make Payment</td>\n",
              "      <td>Phone Disconnect</td>\n",
              "    </tr>\n",
              "    <tr>\n",
              "      <th>3</th>\n",
              "      <td>9000024</td>\n",
              "      <td>1234525</td>\n",
              "      <td>2010-04-17</td>\n",
              "      <td>1</td>\n",
              "      <td>3</td>\n",
              "      <td>4</td>\n",
              "      <td>4</td>\n",
              "      <td>3</td>\n",
              "      <td>4</td>\n",
              "      <td>Billing Question</td>\n",
              "      <td>Explain Bill (no changes made)</td>\n",
              "    </tr>\n",
              "    <tr>\n",
              "      <th>4</th>\n",
              "      <td>9000025</td>\n",
              "      <td>1234542</td>\n",
              "      <td>2010-04-19</td>\n",
              "      <td>1</td>\n",
              "      <td>5</td>\n",
              "      <td>5</td>\n",
              "      <td>4</td>\n",
              "      <td>5</td>\n",
              "      <td>5</td>\n",
              "      <td>Make Payment</td>\n",
              "      <td>Process Payment</td>\n",
              "    </tr>\n",
              "  </tbody>\n",
              "</table>\n",
              "</div>"
            ],
            "text/plain": [
              "   Account Number  ...                 Call Resolution\n",
              "0         9000001  ...           Transfer (Other Dept)\n",
              "1         9000031  ...                  Credit Account\n",
              "2         9000060  ...                Phone Disconnect\n",
              "3         9000024  ...  Explain Bill (no changes made)\n",
              "4         9000025  ...                 Process Payment\n",
              "\n",
              "[5 rows x 11 columns]"
            ]
          },
          "metadata": {
            "tags": []
          },
          "execution_count": 3
        }
      ]
    },
    {
      "cell_type": "code",
      "metadata": {
        "colab": {
          "base_uri": "https://localhost:8080/",
          "height": 391
        },
        "id": "CVhVsAvd8Bn7",
        "outputId": "27cc6f22-675d-40af-c244-d8a84f50185e"
      },
      "source": [
        "df2_merge= pd.merge(df_merge, agen_info)\n",
        "df2_merge.head()\n"
      ],
      "execution_count": 4,
      "outputs": [
        {
          "output_type": "execute_result",
          "data": {
            "text/html": [
              "<div>\n",
              "<style scoped>\n",
              "    .dataframe tbody tr th:only-of-type {\n",
              "        vertical-align: middle;\n",
              "    }\n",
              "\n",
              "    .dataframe tbody tr th {\n",
              "        vertical-align: top;\n",
              "    }\n",
              "\n",
              "    .dataframe thead th {\n",
              "        text-align: right;\n",
              "    }\n",
              "</style>\n",
              "<table border=\"1\" class=\"dataframe\">\n",
              "  <thead>\n",
              "    <tr style=\"text-align: right;\">\n",
              "      <th></th>\n",
              "      <th>Account Number</th>\n",
              "      <th>Interaction ID</th>\n",
              "      <th>Call Date</th>\n",
              "      <th>Agent ID</th>\n",
              "      <th>1. Overall Experience?</th>\n",
              "      <th>2a. Agent Quality of Service</th>\n",
              "      <th>2b. Resolve Issue</th>\n",
              "      <th>2c. Courteous</th>\n",
              "      <th>2d. Knowledgeable</th>\n",
              "      <th>Call Reason</th>\n",
              "      <th>Call Resolution</th>\n",
              "      <th>Agent Name</th>\n",
              "      <th>Agent Role</th>\n",
              "      <th>Agent Tenure</th>\n",
              "    </tr>\n",
              "  </thead>\n",
              "  <tbody>\n",
              "    <tr>\n",
              "      <th>0</th>\n",
              "      <td>9000001</td>\n",
              "      <td>1234501</td>\n",
              "      <td>2010-04-15</td>\n",
              "      <td>1</td>\n",
              "      <td>3</td>\n",
              "      <td>2</td>\n",
              "      <td>1</td>\n",
              "      <td>3</td>\n",
              "      <td>1</td>\n",
              "      <td>Add Services</td>\n",
              "      <td>Transfer (Other Dept)</td>\n",
              "      <td>Smith, John</td>\n",
              "      <td>Tier 1</td>\n",
              "      <td>0-30</td>\n",
              "    </tr>\n",
              "    <tr>\n",
              "      <th>1</th>\n",
              "      <td>9000031</td>\n",
              "      <td>1234506</td>\n",
              "      <td>2010-04-15</td>\n",
              "      <td>1</td>\n",
              "      <td>4</td>\n",
              "      <td>3</td>\n",
              "      <td>3</td>\n",
              "      <td>4</td>\n",
              "      <td>4</td>\n",
              "      <td>Billing Dispute</td>\n",
              "      <td>Credit Account</td>\n",
              "      <td>Smith, John</td>\n",
              "      <td>Tier 1</td>\n",
              "      <td>0-30</td>\n",
              "    </tr>\n",
              "    <tr>\n",
              "      <th>2</th>\n",
              "      <td>9000060</td>\n",
              "      <td>1234521</td>\n",
              "      <td>2010-04-16</td>\n",
              "      <td>1</td>\n",
              "      <td>2</td>\n",
              "      <td>4</td>\n",
              "      <td>3</td>\n",
              "      <td>5</td>\n",
              "      <td>4</td>\n",
              "      <td>Make Payment</td>\n",
              "      <td>Phone Disconnect</td>\n",
              "      <td>Smith, John</td>\n",
              "      <td>Tier 1</td>\n",
              "      <td>0-30</td>\n",
              "    </tr>\n",
              "    <tr>\n",
              "      <th>3</th>\n",
              "      <td>9000024</td>\n",
              "      <td>1234525</td>\n",
              "      <td>2010-04-17</td>\n",
              "      <td>1</td>\n",
              "      <td>3</td>\n",
              "      <td>4</td>\n",
              "      <td>4</td>\n",
              "      <td>3</td>\n",
              "      <td>4</td>\n",
              "      <td>Billing Question</td>\n",
              "      <td>Explain Bill (no changes made)</td>\n",
              "      <td>Smith, John</td>\n",
              "      <td>Tier 1</td>\n",
              "      <td>0-30</td>\n",
              "    </tr>\n",
              "    <tr>\n",
              "      <th>4</th>\n",
              "      <td>9000025</td>\n",
              "      <td>1234542</td>\n",
              "      <td>2010-04-19</td>\n",
              "      <td>1</td>\n",
              "      <td>5</td>\n",
              "      <td>5</td>\n",
              "      <td>4</td>\n",
              "      <td>5</td>\n",
              "      <td>5</td>\n",
              "      <td>Make Payment</td>\n",
              "      <td>Process Payment</td>\n",
              "      <td>Smith, John</td>\n",
              "      <td>Tier 1</td>\n",
              "      <td>0-30</td>\n",
              "    </tr>\n",
              "  </tbody>\n",
              "</table>\n",
              "</div>"
            ],
            "text/plain": [
              "   Account Number  Interaction ID  ... Agent Role  Agent Tenure\n",
              "0         9000001         1234501  ...     Tier 1          0-30\n",
              "1         9000031         1234506  ...     Tier 1          0-30\n",
              "2         9000060         1234521  ...     Tier 1          0-30\n",
              "3         9000024         1234525  ...     Tier 1          0-30\n",
              "4         9000025         1234542  ...     Tier 1          0-30\n",
              "\n",
              "[5 rows x 14 columns]"
            ]
          },
          "metadata": {
            "tags": []
          },
          "execution_count": 4
        }
      ]
    },
    {
      "cell_type": "code",
      "metadata": {
        "colab": {
          "base_uri": "https://localhost:8080/",
          "height": 319
        },
        "id": "qJ5mwmaj5jyz",
        "outputId": "f077a457-fd95-48ae-ecdb-87e80971750a"
      },
      "source": [
        "customer_satisfaction.head()"
      ],
      "execution_count": 5,
      "outputs": [
        {
          "output_type": "execute_result",
          "data": {
            "text/html": [
              "<div>\n",
              "<style scoped>\n",
              "    .dataframe tbody tr th:only-of-type {\n",
              "        vertical-align: middle;\n",
              "    }\n",
              "\n",
              "    .dataframe tbody tr th {\n",
              "        vertical-align: top;\n",
              "    }\n",
              "\n",
              "    .dataframe thead th {\n",
              "        text-align: right;\n",
              "    }\n",
              "</style>\n",
              "<table border=\"1\" class=\"dataframe\">\n",
              "  <thead>\n",
              "    <tr style=\"text-align: right;\">\n",
              "      <th></th>\n",
              "      <th>Account Number</th>\n",
              "      <th>Interaction ID</th>\n",
              "      <th>Call Date</th>\n",
              "      <th>Agent ID</th>\n",
              "      <th>1. Overall Experience?</th>\n",
              "      <th>2a. Agent Quality of Service</th>\n",
              "      <th>2b. Resolve Issue</th>\n",
              "      <th>2c. Courteous</th>\n",
              "      <th>2d. Knowledgeable</th>\n",
              "    </tr>\n",
              "  </thead>\n",
              "  <tbody>\n",
              "    <tr>\n",
              "      <th>0</th>\n",
              "      <td>9000001</td>\n",
              "      <td>1234501</td>\n",
              "      <td>2010-04-15</td>\n",
              "      <td>1</td>\n",
              "      <td>3</td>\n",
              "      <td>2</td>\n",
              "      <td>1</td>\n",
              "      <td>3</td>\n",
              "      <td>1</td>\n",
              "    </tr>\n",
              "    <tr>\n",
              "      <th>1</th>\n",
              "      <td>9000031</td>\n",
              "      <td>1234506</td>\n",
              "      <td>2010-04-15</td>\n",
              "      <td>1</td>\n",
              "      <td>4</td>\n",
              "      <td>3</td>\n",
              "      <td>3</td>\n",
              "      <td>4</td>\n",
              "      <td>4</td>\n",
              "    </tr>\n",
              "    <tr>\n",
              "      <th>2</th>\n",
              "      <td>9000060</td>\n",
              "      <td>1234521</td>\n",
              "      <td>2010-04-16</td>\n",
              "      <td>1</td>\n",
              "      <td>2</td>\n",
              "      <td>4</td>\n",
              "      <td>3</td>\n",
              "      <td>5</td>\n",
              "      <td>4</td>\n",
              "    </tr>\n",
              "    <tr>\n",
              "      <th>3</th>\n",
              "      <td>9000024</td>\n",
              "      <td>1234525</td>\n",
              "      <td>2010-04-17</td>\n",
              "      <td>1</td>\n",
              "      <td>3</td>\n",
              "      <td>4</td>\n",
              "      <td>4</td>\n",
              "      <td>3</td>\n",
              "      <td>4</td>\n",
              "    </tr>\n",
              "    <tr>\n",
              "      <th>4</th>\n",
              "      <td>9000025</td>\n",
              "      <td>1234542</td>\n",
              "      <td>2010-04-19</td>\n",
              "      <td>1</td>\n",
              "      <td>5</td>\n",
              "      <td>5</td>\n",
              "      <td>4</td>\n",
              "      <td>5</td>\n",
              "      <td>5</td>\n",
              "    </tr>\n",
              "  </tbody>\n",
              "</table>\n",
              "</div>"
            ],
            "text/plain": [
              "   Account Number  Interaction ID  ... 2c. Courteous  2d. Knowledgeable\n",
              "0         9000001         1234501  ...             3                  1\n",
              "1         9000031         1234506  ...             4                  4\n",
              "2         9000060         1234521  ...             5                  4\n",
              "3         9000024         1234525  ...             3                  4\n",
              "4         9000025         1234542  ...             5                  5\n",
              "\n",
              "[5 rows x 9 columns]"
            ]
          },
          "metadata": {
            "tags": []
          },
          "execution_count": 5
        }
      ]
    },
    {
      "cell_type": "code",
      "metadata": {
        "colab": {
          "base_uri": "https://localhost:8080/",
          "height": 198
        },
        "id": "Kst3qiho5pN-",
        "outputId": "4e2e74e2-dc20-4ca0-97b4-4590245092ba"
      },
      "source": [
        "agen_info.head()"
      ],
      "execution_count": 6,
      "outputs": [
        {
          "output_type": "execute_result",
          "data": {
            "text/html": [
              "<div>\n",
              "<style scoped>\n",
              "    .dataframe tbody tr th:only-of-type {\n",
              "        vertical-align: middle;\n",
              "    }\n",
              "\n",
              "    .dataframe tbody tr th {\n",
              "        vertical-align: top;\n",
              "    }\n",
              "\n",
              "    .dataframe thead th {\n",
              "        text-align: right;\n",
              "    }\n",
              "</style>\n",
              "<table border=\"1\" class=\"dataframe\">\n",
              "  <thead>\n",
              "    <tr style=\"text-align: right;\">\n",
              "      <th></th>\n",
              "      <th>Agent ID</th>\n",
              "      <th>Agent Name</th>\n",
              "      <th>Agent Role</th>\n",
              "      <th>Agent Tenure</th>\n",
              "    </tr>\n",
              "  </thead>\n",
              "  <tbody>\n",
              "    <tr>\n",
              "      <th>0</th>\n",
              "      <td>1</td>\n",
              "      <td>Smith, John</td>\n",
              "      <td>Tier 1</td>\n",
              "      <td>0-30</td>\n",
              "    </tr>\n",
              "    <tr>\n",
              "      <th>1</th>\n",
              "      <td>2</td>\n",
              "      <td>Jones, Amanda</td>\n",
              "      <td>Tier 2</td>\n",
              "      <td>60-90</td>\n",
              "    </tr>\n",
              "    <tr>\n",
              "      <th>2</th>\n",
              "      <td>3</td>\n",
              "      <td>Davis, Kelly</td>\n",
              "      <td>Tier 2</td>\n",
              "      <td>120+</td>\n",
              "    </tr>\n",
              "    <tr>\n",
              "      <th>3</th>\n",
              "      <td>4</td>\n",
              "      <td>Miller, Ross</td>\n",
              "      <td>Tier 1</td>\n",
              "      <td>0-30</td>\n",
              "    </tr>\n",
              "    <tr>\n",
              "      <th>4</th>\n",
              "      <td>5</td>\n",
              "      <td>Johnson, Emily</td>\n",
              "      <td>Tier 1</td>\n",
              "      <td>0-30</td>\n",
              "    </tr>\n",
              "  </tbody>\n",
              "</table>\n",
              "</div>"
            ],
            "text/plain": [
              "   Agent ID      Agent Name Agent Role Agent Tenure\n",
              "0         1     Smith, John     Tier 1         0-30\n",
              "1         2   Jones, Amanda     Tier 2        60-90\n",
              "2         3    Davis, Kelly     Tier 2         120+\n",
              "3         4    Miller, Ross     Tier 1         0-30\n",
              "4         5  Johnson, Emily     Tier 1         0-30"
            ]
          },
          "metadata": {
            "tags": []
          },
          "execution_count": 6
        }
      ]
    },
    {
      "cell_type": "code",
      "metadata": {
        "colab": {
          "base_uri": "https://localhost:8080/",
          "height": 198
        },
        "id": "x1RYAY2Y5tF7",
        "outputId": "c14f1580-2386-40a4-edcf-99ad60e647f7"
      },
      "source": [
        "account_interaction.head()"
      ],
      "execution_count": 7,
      "outputs": [
        {
          "output_type": "execute_result",
          "data": {
            "text/html": [
              "<div>\n",
              "<style scoped>\n",
              "    .dataframe tbody tr th:only-of-type {\n",
              "        vertical-align: middle;\n",
              "    }\n",
              "\n",
              "    .dataframe tbody tr th {\n",
              "        vertical-align: top;\n",
              "    }\n",
              "\n",
              "    .dataframe thead th {\n",
              "        text-align: right;\n",
              "    }\n",
              "</style>\n",
              "<table border=\"1\" class=\"dataframe\">\n",
              "  <thead>\n",
              "    <tr style=\"text-align: right;\">\n",
              "      <th></th>\n",
              "      <th>Account Number</th>\n",
              "      <th>Interaction ID</th>\n",
              "      <th>Call Date</th>\n",
              "      <th>Call Reason</th>\n",
              "      <th>Call Resolution</th>\n",
              "      <th>Agent ID</th>\n",
              "    </tr>\n",
              "  </thead>\n",
              "  <tbody>\n",
              "    <tr>\n",
              "      <th>0</th>\n",
              "      <td>9000001</td>\n",
              "      <td>1234501</td>\n",
              "      <td>2010-04-15</td>\n",
              "      <td>Add Services</td>\n",
              "      <td>Transfer (Other Dept)</td>\n",
              "      <td>1</td>\n",
              "    </tr>\n",
              "    <tr>\n",
              "      <th>1</th>\n",
              "      <td>9000010</td>\n",
              "      <td>1234502</td>\n",
              "      <td>2010-04-15</td>\n",
              "      <td>Make Payment</td>\n",
              "      <td>Explain Bill (no changes made)</td>\n",
              "      <td>9</td>\n",
              "    </tr>\n",
              "    <tr>\n",
              "      <th>2</th>\n",
              "      <td>9000010</td>\n",
              "      <td>1234503</td>\n",
              "      <td>2010-04-15</td>\n",
              "      <td>Make Payment</td>\n",
              "      <td>Phone Disconnect</td>\n",
              "      <td>10</td>\n",
              "    </tr>\n",
              "    <tr>\n",
              "      <th>3</th>\n",
              "      <td>9000019</td>\n",
              "      <td>1234504</td>\n",
              "      <td>2010-04-15</td>\n",
              "      <td>Make Payment</td>\n",
              "      <td>Process Payment</td>\n",
              "      <td>2</td>\n",
              "    </tr>\n",
              "    <tr>\n",
              "      <th>4</th>\n",
              "      <td>9000029</td>\n",
              "      <td>1234505</td>\n",
              "      <td>2010-04-15</td>\n",
              "      <td>Add Services</td>\n",
              "      <td>Add Minutes</td>\n",
              "      <td>9</td>\n",
              "    </tr>\n",
              "  </tbody>\n",
              "</table>\n",
              "</div>"
            ],
            "text/plain": [
              "   Account Number  Interaction ID  ...                 Call Resolution Agent ID\n",
              "0         9000001         1234501  ...           Transfer (Other Dept)        1\n",
              "1         9000010         1234502  ...  Explain Bill (no changes made)        9\n",
              "2         9000010         1234503  ...                Phone Disconnect       10\n",
              "3         9000019         1234504  ...                 Process Payment        2\n",
              "4         9000029         1234505  ...                     Add Minutes        9\n",
              "\n",
              "[5 rows x 6 columns]"
            ]
          },
          "metadata": {
            "tags": []
          },
          "execution_count": 7
        }
      ]
    },
    {
      "cell_type": "markdown",
      "metadata": {
        "id": "rkNrIZVZQ9u0"
      },
      "source": [
        "<a id='wrangling'></a>\n",
        "## Data Wrangling\n",
        "\n",
        "In these section i will clean data from any reduancey and tirm data if need it.\n"
      ]
    },
    {
      "cell_type": "code",
      "metadata": {
        "colab": {
          "base_uri": "https://localhost:8080/"
        },
        "id": "BQ5_lKWQmVIX",
        "outputId": "70a267ac-b0f4-436a-f7ae-461f84714f8f"
      },
      "source": [
        "# Identify how many row and column dataset have\n",
        "customer_satisfaction.shape"
      ],
      "execution_count": 8,
      "outputs": [
        {
          "output_type": "execute_result",
          "data": {
            "text/plain": [
              "(126, 9)"
            ]
          },
          "metadata": {
            "tags": []
          },
          "execution_count": 8
        }
      ]
    },
    {
      "cell_type": "code",
      "metadata": {
        "colab": {
          "base_uri": "https://localhost:8080/",
          "height": 360
        },
        "id": "z9FtfUQJsJpC",
        "outputId": "0608788f-75d5-4e36-95bc-8a8ec6c35674"
      },
      "source": [
        "# Go through describtive statistic information.\n",
        "customer_satisfaction.describe()"
      ],
      "execution_count": 9,
      "outputs": [
        {
          "output_type": "execute_result",
          "data": {
            "text/html": [
              "<div>\n",
              "<style scoped>\n",
              "    .dataframe tbody tr th:only-of-type {\n",
              "        vertical-align: middle;\n",
              "    }\n",
              "\n",
              "    .dataframe tbody tr th {\n",
              "        vertical-align: top;\n",
              "    }\n",
              "\n",
              "    .dataframe thead th {\n",
              "        text-align: right;\n",
              "    }\n",
              "</style>\n",
              "<table border=\"1\" class=\"dataframe\">\n",
              "  <thead>\n",
              "    <tr style=\"text-align: right;\">\n",
              "      <th></th>\n",
              "      <th>Account Number</th>\n",
              "      <th>Interaction ID</th>\n",
              "      <th>Agent ID</th>\n",
              "      <th>1. Overall Experience?</th>\n",
              "      <th>2a. Agent Quality of Service</th>\n",
              "      <th>2b. Resolve Issue</th>\n",
              "      <th>2c. Courteous</th>\n",
              "      <th>2d. Knowledgeable</th>\n",
              "    </tr>\n",
              "  </thead>\n",
              "  <tbody>\n",
              "    <tr>\n",
              "      <th>count</th>\n",
              "      <td>1.260000e+02</td>\n",
              "      <td>1.260000e+02</td>\n",
              "      <td>126.000000</td>\n",
              "      <td>126.000000</td>\n",
              "      <td>126.000000</td>\n",
              "      <td>126.000000</td>\n",
              "      <td>126.000000</td>\n",
              "      <td>126.000000</td>\n",
              "    </tr>\n",
              "    <tr>\n",
              "      <th>mean</th>\n",
              "      <td>9.000051e+06</td>\n",
              "      <td>1.234564e+06</td>\n",
              "      <td>5.563492</td>\n",
              "      <td>3.912698</td>\n",
              "      <td>3.904762</td>\n",
              "      <td>3.841270</td>\n",
              "      <td>4.023810</td>\n",
              "      <td>4.015873</td>\n",
              "    </tr>\n",
              "    <tr>\n",
              "      <th>std</th>\n",
              "      <td>2.959661e+01</td>\n",
              "      <td>3.651712e+01</td>\n",
              "      <td>2.832655</td>\n",
              "      <td>1.027773</td>\n",
              "      <td>1.069045</td>\n",
              "      <td>1.105714</td>\n",
              "      <td>0.880584</td>\n",
              "      <td>0.987799</td>\n",
              "    </tr>\n",
              "    <tr>\n",
              "      <th>min</th>\n",
              "      <td>9.000001e+06</td>\n",
              "      <td>1.234501e+06</td>\n",
              "      <td>1.000000</td>\n",
              "      <td>1.000000</td>\n",
              "      <td>1.000000</td>\n",
              "      <td>1.000000</td>\n",
              "      <td>2.000000</td>\n",
              "      <td>1.000000</td>\n",
              "    </tr>\n",
              "    <tr>\n",
              "      <th>25%</th>\n",
              "      <td>9.000025e+06</td>\n",
              "      <td>1.234532e+06</td>\n",
              "      <td>3.000000</td>\n",
              "      <td>3.000000</td>\n",
              "      <td>3.000000</td>\n",
              "      <td>3.000000</td>\n",
              "      <td>3.000000</td>\n",
              "      <td>3.000000</td>\n",
              "    </tr>\n",
              "    <tr>\n",
              "      <th>50%</th>\n",
              "      <td>9.000050e+06</td>\n",
              "      <td>1.234564e+06</td>\n",
              "      <td>6.000000</td>\n",
              "      <td>4.000000</td>\n",
              "      <td>4.000000</td>\n",
              "      <td>4.000000</td>\n",
              "      <td>4.000000</td>\n",
              "      <td>4.000000</td>\n",
              "    </tr>\n",
              "    <tr>\n",
              "      <th>75%</th>\n",
              "      <td>9.000076e+06</td>\n",
              "      <td>1.234595e+06</td>\n",
              "      <td>8.000000</td>\n",
              "      <td>5.000000</td>\n",
              "      <td>5.000000</td>\n",
              "      <td>5.000000</td>\n",
              "      <td>5.000000</td>\n",
              "      <td>5.000000</td>\n",
              "    </tr>\n",
              "    <tr>\n",
              "      <th>max</th>\n",
              "      <td>9.000100e+06</td>\n",
              "      <td>1.234626e+06</td>\n",
              "      <td>10.000000</td>\n",
              "      <td>5.000000</td>\n",
              "      <td>5.000000</td>\n",
              "      <td>5.000000</td>\n",
              "      <td>5.000000</td>\n",
              "      <td>5.000000</td>\n",
              "    </tr>\n",
              "  </tbody>\n",
              "</table>\n",
              "</div>"
            ],
            "text/plain": [
              "       Account Number  Interaction ID  ...  2c. Courteous  2d. Knowledgeable\n",
              "count    1.260000e+02    1.260000e+02  ...     126.000000         126.000000\n",
              "mean     9.000051e+06    1.234564e+06  ...       4.023810           4.015873\n",
              "std      2.959661e+01    3.651712e+01  ...       0.880584           0.987799\n",
              "min      9.000001e+06    1.234501e+06  ...       2.000000           1.000000\n",
              "25%      9.000025e+06    1.234532e+06  ...       3.000000           3.000000\n",
              "50%      9.000050e+06    1.234564e+06  ...       4.000000           4.000000\n",
              "75%      9.000076e+06    1.234595e+06  ...       5.000000           5.000000\n",
              "max      9.000100e+06    1.234626e+06  ...       5.000000           5.000000\n",
              "\n",
              "[8 rows x 8 columns]"
            ]
          },
          "metadata": {
            "tags": []
          },
          "execution_count": 9
        }
      ]
    },
    {
      "cell_type": "markdown",
      "metadata": {
        "id": "6UpWOoNpA4f9"
      },
      "source": [
        "* we can see that the mean of overall satisfaction is around 3.9 that is almost the same for agent quality of service and resolve issue, but it is around 4.0 for courteous and knowledgeable.\n",
        "\n",
        "* we can also see that courteous has the highest minimun number which is 2.0 and almost 50% of clinets has rated 4 for all variables."
      ]
    },
    {
      "cell_type": "code",
      "metadata": {
        "colab": {
          "base_uri": "https://localhost:8080/"
        },
        "id": "GPCSQm19rJ70",
        "outputId": "7c59b958-07af-469d-c83e-47be1a37786d"
      },
      "source": [
        "# Identify how many row and column dataset have\n",
        "agen_info.shape"
      ],
      "execution_count": 10,
      "outputs": [
        {
          "output_type": "execute_result",
          "data": {
            "text/plain": [
              "(10, 4)"
            ]
          },
          "metadata": {
            "tags": []
          },
          "execution_count": 10
        }
      ]
    },
    {
      "cell_type": "code",
      "metadata": {
        "colab": {
          "base_uri": "https://localhost:8080/"
        },
        "id": "sIK5FMWIrQ8N",
        "outputId": "ee3674bc-e055-408d-8dcc-2ab7cd2b98b3"
      },
      "source": [
        "# Identify how many row and column dataset have\n",
        "account_interaction.shape"
      ],
      "execution_count": 11,
      "outputs": [
        {
          "output_type": "execute_result",
          "data": {
            "text/plain": [
              "(126, 6)"
            ]
          },
          "metadata": {
            "tags": []
          },
          "execution_count": 11
        }
      ]
    },
    {
      "cell_type": "code",
      "metadata": {
        "colab": {
          "base_uri": "https://localhost:8080/"
        },
        "id": "RR6cMmamsaCO",
        "outputId": "5f67f34c-92d2-449c-ed53-ca53fedc3d5e"
      },
      "source": [
        "# look for unique values at the data set\n",
        "account_interaction.nunique()"
      ],
      "execution_count": 12,
      "outputs": [
        {
          "output_type": "execute_result",
          "data": {
            "text/plain": [
              "Account Number     100\n",
              "Interaction ID     126\n",
              "Call Date           13\n",
              "Call Reason          8\n",
              "Call Resolution     10\n",
              "Agent ID            10\n",
              "dtype: int64"
            ]
          },
          "metadata": {
            "tags": []
          },
          "execution_count": 12
        }
      ]
    },
    {
      "cell_type": "markdown",
      "metadata": {
        "id": "MbsHVBeBEJdA"
      },
      "source": [
        " * There is only 8 reasons for calling and 10 resolution.\n",
        " * All the 10 agent involved in the interaction."
      ]
    },
    {
      "cell_type": "code",
      "metadata": {
        "colab": {
          "base_uri": "https://localhost:8080/"
        },
        "id": "jJMYi3_2Dwt1",
        "outputId": "06f24123-d400-45ec-e790-88ac2dce381b"
      },
      "source": [
        "# look at how many duplicated rows\n",
        "sum(customer_satisfaction.duplicated())"
      ],
      "execution_count": 13,
      "outputs": [
        {
          "output_type": "execute_result",
          "data": {
            "text/plain": [
              "0"
            ]
          },
          "metadata": {
            "tags": []
          },
          "execution_count": 13
        }
      ]
    },
    {
      "cell_type": "markdown",
      "metadata": {
        "id": "m9eyJA6aD8jT"
      },
      "source": [
        "* There is no duplicated rows."
      ]
    },
    {
      "cell_type": "code",
      "metadata": {
        "colab": {
          "base_uri": "https://localhost:8080/"
        },
        "id": "BFwxOHLuDzOL",
        "outputId": "41eafc4d-650d-4c26-f1bc-7bac291825f8"
      },
      "source": [
        "# look at how many duplicated rows\n",
        "sum(account_interaction.duplicated())"
      ],
      "execution_count": 14,
      "outputs": [
        {
          "output_type": "execute_result",
          "data": {
            "text/plain": [
              "0"
            ]
          },
          "metadata": {
            "tags": []
          },
          "execution_count": 14
        }
      ]
    },
    {
      "cell_type": "markdown",
      "metadata": {
        "id": "QmeJM4ABECzq"
      },
      "source": [
        "* There is no duplicated rows."
      ]
    },
    {
      "cell_type": "markdown",
      "metadata": {
        "id": "WFKDmaFPE5Ew"
      },
      "source": [
        "\n",
        "<a id='eda'></a>\n",
        "## Exploratory Data Analysis\n"
      ]
    },
    {
      "cell_type": "markdown",
      "metadata": {
        "id": "afGVw2lXE_fO"
      },
      "source": [
        "In this section i will see the relationship amonge all variables and try to find usefull analysis for customer satisfaction."
      ]
    },
    {
      "cell_type": "code",
      "metadata": {
        "colab": {
          "base_uri": "https://localhost:8080/",
          "height": 279
        },
        "id": "cu_2BpNYFJLs",
        "outputId": "91ccf181-8c3b-412c-b267-41e45ae8520e"
      },
      "source": [
        "# first we will look at the overall customer experience \n",
        "# plot overall experience in charts\n",
        "base_color = sns.color_palette()[0]\n",
        "order_Overall= customer_satisfaction['1. Overall Experience?'].value_counts().index\n",
        "sns.countplot( data= customer_satisfaction, x= '1. Overall Experience?', color= base_color, order= order_Overall);"
      ],
      "execution_count": 15,
      "outputs": [
        {
          "output_type": "display_data",
          "data": {
            "image/png": "[encoded data removed]",
            "text/plain": [
              "<Figure size 432x288 with 1 Axes>"
            ]
          },
          "metadata": {
            "tags": [],
            "needs_background": "light"
          }
        }
      ]
    },
    {
      "cell_type": "code",
      "metadata": {
        "colab": {
          "base_uri": "https://localhost:8080/",
          "height": 279
        },
        "id": "zmxz0gDNVy4R",
        "outputId": "11dd30d3-b1e1-408d-d9f1-c73e7b9eb6f8"
      },
      "source": [
        "# plot agent quality of servies\n",
        "order_Agent_qual= customer_satisfaction['2a. Agent Quality of Service'].value_counts().index\n",
        "sns.countplot(data= customer_satisfaction, x= '2a. Agent Quality of Service', color= base_color , order= order_Agent_qual);"
      ],
      "execution_count": 16,
      "outputs": [
        {
          "output_type": "display_data",
          "data": {
            "image/png": "[encoded data removed]",
            "text/plain": [
              "<Figure size 432x288 with 1 Axes>"
            ]
          },
          "metadata": {
            "tags": [],
            "needs_background": "light"
          }
        }
      ]
    },
    {
      "cell_type": "code",
      "metadata": {
        "colab": {
          "base_uri": "https://localhost:8080/",
          "height": 279
        },
        "id": "NkMAKnH4jfaJ",
        "outputId": "201e2f0b-f717-4dc8-879e-f5697ea4269a"
      },
      "source": [
        "# plot Resolve issue \n",
        "order_resolve_issue= customer_satisfaction['2b. Resolve Issue'].value_counts().index\n",
        "sns.countplot(data= customer_satisfaction, x= '2b. Resolve Issue', color= base_color , order= order_resolve_issue);\n"
      ],
      "execution_count": 17,
      "outputs": [
        {
          "output_type": "display_data",
          "data": {
            "image/png": "[encoded data removed]",
            "text/plain": [
              "<Figure size 432x288 with 1 Axes>"
            ]
          },
          "metadata": {
            "tags": [],
            "needs_background": "light"
          }
        }
      ]
    },
    {
      "cell_type": "code",
      "metadata": {
        "colab": {
          "base_uri": "https://localhost:8080/",
          "height": 279
        },
        "id": "xJIPn-K-kcqF",
        "outputId": "5defd0d6-b829-4a45-c00f-42e1a55eb55e"
      },
      "source": [
        "# plot courteous\n",
        "order_courteous= customer_satisfaction['2c. Courteous'].value_counts().index\n",
        "sns.countplot(data= customer_satisfaction, x= '2c. Courteous', color= base_color , order= order_courteous);\n"
      ],
      "execution_count": 18,
      "outputs": [
        {
          "output_type": "display_data",
          "data": {
            "image/png": "[encoded data removed]",
            "text/plain": [
              "<Figure size 432x288 with 1 Axes>"
            ]
          },
          "metadata": {
            "tags": [],
            "needs_background": "light"
          }
        }
      ]
    },
    {
      "cell_type": "code",
      "metadata": {
        "colab": {
          "base_uri": "https://localhost:8080/",
          "height": 282
        },
        "id": "BlwJOo8Zli3w",
        "outputId": "1c64647d-91b8-4ace-ee38-ca95ee5b03d1"
      },
      "source": [
        "# plot Knowledgeable\n",
        "order_Knowledgeable= customer_satisfaction['2d. Knowledgeable'].value_counts().index\n",
        "sns.countplot(data= customer_satisfaction, x= '2d. Knowledgeable', color= base_color , order= order_Knowledgeable);\n"
      ],
      "execution_count": 19,
      "outputs": [
        {
          "output_type": "display_data",
          "data": {
            "image/png": "[encoded data removed]",
            "text/plain": [
              "<Figure size 432x288 with 1 Axes>"
            ]
          },
          "metadata": {
            "tags": [],
            "needs_background": "light"
          }
        }
      ]
    },
    {
      "cell_type": "code",
      "metadata": {
        "colab": {
          "base_uri": "https://localhost:8080/",
          "height": 279
        },
        "id": "qVd9wGNYl6hu",
        "outputId": "0f9b6e5d-edc0-4e13-9738-8358285230fb"
      },
      "source": [
        "# second we will look at the account interaction\n",
        "# plot the reason of call\n",
        "base_color2= sns.color_palette()[1]\n",
        "order_call_reason= account_interaction['Call Reason'].value_counts().index\n",
        "call_reason_count= account_interaction['Call Reason'].value_counts()\n",
        "n_reasons= account_interaction['Call Reason'].value_counts().sum()\n",
        "sns.countplot(data= account_interaction, y='Call Reason', color= base_color2, order= order_call_reason);\n",
        "\n",
        "for i in range (call_reason_count.shape[0]):\n",
        "  count= call_reason_count[i]\n",
        "  pct_string= '{:0.1f}%'.format(100*count/n_reasons)\n",
        "  plt.text(count+1, i, pct_string)"
      ],
      "execution_count": 46,
      "outputs": [
        {
          "output_type": "display_data",
          "data": {
            "image/png": "[encoded data removed]",
            "text/plain": [
              "<Figure size 432x288 with 1 Axes>"
            ]
          },
          "metadata": {
            "tags": [],
            "needs_background": "light"
          }
        }
      ]
    },
    {
      "cell_type": "markdown",
      "metadata": {
        "id": "zAl5s3_s1YJw"
      },
      "source": [
        "* The bar chart indicates that arround 33.3% of overall customers calling for add servies which is adding more minutes and/ or texts to their account.\n",
        "\n",
        "* the next highest reaon for call is make payment on their account, around 17.5%\n"
      ]
    },
    {
      "cell_type": "code",
      "metadata": {
        "colab": {
          "base_uri": "https://localhost:8080/",
          "height": 279
        },
        "id": "aC4UgicDzsVu",
        "outputId": "e49ad4dd-f4a6-4434-a786-58f6763a4a40"
      },
      "source": [
        "# plot the Call resolution\n",
        "base_color3=sns.color_palette()[2]\n",
        "order_call_resolution= account_interaction['Call Resolution'].value_counts().index\n",
        "call_resolution_count= account_interaction['Call Resolution'].value_counts()\n",
        "n_resolution= account_interaction['Call Resolution'].value_counts().sum()\n",
        "sns.countplot(data= account_interaction, y='Call Resolution', color= base_color3, order= order_call_resolution);\n",
        "\n",
        "for i in range (call_resolution_count.shape[0]):\n",
        "  count= call_resolution_count[i]\n",
        "  pct_string= '{:0.1f}%'.format(100*count/n_resolution)\n",
        "  plt.text(count+1, i, pct_string)"
      ],
      "execution_count": 45,
      "outputs": [
        {
          "output_type": "display_data",
          "data": {
            "image/png": "[encoded data removed]",
            "text/plain": [
              "<Figure size 432x288 with 1 Axes>"
            ]
          },
          "metadata": {
            "tags": [],
            "needs_background": "light"
          }
        }
      ]
    },
    {
      "cell_type": "markdown",
      "metadata": {
        "id": "VRrjcglXJ8YK"
      },
      "source": [
        "* the highest resolution that agent took was transfer to other depertment by around 16.7%\n",
        "* comes in the next place add minutes to their account by 15.1%"
      ]
    },
    {
      "cell_type": "code",
      "metadata": {
        "colab": {
          "base_uri": "https://localhost:8080/",
          "height": 258
        },
        "id": "mlSQg3Tgvq1N",
        "outputId": "09c47eaa-e3a9-4741-afb9-b7b769f517ba"
      },
      "source": [
        "# Scan agent over all tenure based on the their role\n",
        "agent_role= agen_info.groupby(['Agent Role','Agent Tenure']).size()\n",
        "agent_role= agent_role.reset_index(name= 'type ')\n",
        "agent_role= agent_role.pivot(index= 'Agent Tenure', columns= 'Agent Role' )\n",
        "agent_role"
      ],
      "execution_count": 22,
      "outputs": [
        {
          "output_type": "execute_result",
          "data": {
            "text/html": [
              "<div>\n",
              "<style scoped>\n",
              "    .dataframe tbody tr th:only-of-type {\n",
              "        vertical-align: middle;\n",
              "    }\n",
              "\n",
              "    .dataframe tbody tr th {\n",
              "        vertical-align: top;\n",
              "    }\n",
              "\n",
              "    .dataframe thead tr th {\n",
              "        text-align: left;\n",
              "    }\n",
              "\n",
              "    .dataframe thead tr:last-of-type th {\n",
              "        text-align: right;\n",
              "    }\n",
              "</style>\n",
              "<table border=\"1\" class=\"dataframe\">\n",
              "  <thead>\n",
              "    <tr>\n",
              "      <th></th>\n",
              "      <th colspan=\"2\" halign=\"left\">type</th>\n",
              "    </tr>\n",
              "    <tr>\n",
              "      <th>Agent Role</th>\n",
              "      <th>Tier 1</th>\n",
              "      <th>Tier 2</th>\n",
              "    </tr>\n",
              "    <tr>\n",
              "      <th>Agent Tenure</th>\n",
              "      <th></th>\n",
              "      <th></th>\n",
              "    </tr>\n",
              "  </thead>\n",
              "  <tbody>\n",
              "    <tr>\n",
              "      <th>0-30</th>\n",
              "      <td>4.0</td>\n",
              "      <td>NaN</td>\n",
              "    </tr>\n",
              "    <tr>\n",
              "      <th>120+</th>\n",
              "      <td>NaN</td>\n",
              "      <td>1.0</td>\n",
              "    </tr>\n",
              "    <tr>\n",
              "      <th>30-60</th>\n",
              "      <td>2.0</td>\n",
              "      <td>NaN</td>\n",
              "    </tr>\n",
              "    <tr>\n",
              "      <th>60-90</th>\n",
              "      <td>NaN</td>\n",
              "      <td>2.0</td>\n",
              "    </tr>\n",
              "    <tr>\n",
              "      <th>90-120</th>\n",
              "      <td>NaN</td>\n",
              "      <td>1.0</td>\n",
              "    </tr>\n",
              "  </tbody>\n",
              "</table>\n",
              "</div>"
            ],
            "text/plain": [
              "              type        \n",
              "Agent Role   Tier 1 Tier 2\n",
              "Agent Tenure              \n",
              "0-30            4.0    NaN\n",
              "120+            NaN    1.0\n",
              "30-60           2.0    NaN\n",
              "60-90           NaN    2.0\n",
              "90-120          NaN    1.0"
            ]
          },
          "metadata": {
            "tags": []
          },
          "execution_count": 22
        }
      ]
    },
    {
      "cell_type": "code",
      "metadata": {
        "colab": {
          "base_uri": "https://localhost:8080/",
          "height": 283
        },
        "id": "yVk-vFrcx0VT",
        "outputId": "3583e5fb-2bfb-45b5-e373-5a59dc0401da"
      },
      "source": [
        "# heatmape to see the count for values\n",
        "sns.heatmap(agent_role, annot= True);"
      ],
      "execution_count": 23,
      "outputs": [
        {
          "output_type": "display_data",
          "data": {
            "image/png": "[encoded data removed]",
            "text/plain": [
              "<Figure size 432x288 with 2 Axes>"
            ]
          },
          "metadata": {
            "tags": [],
            "needs_background": "light"
          }
        }
      ]
    },
    {
      "cell_type": "markdown",
      "metadata": {
        "id": "_s_wfijT3JG6"
      },
      "source": [
        "* Tier 1 which are the first level of support are taking the lowest days dealing and working with clients in the orgaizations which are between 0 to 60 days.\n",
        "\n",
        "* Tier 2 which are the escalated level of support clinets are in the orgization for more than 60 to 120+ ."
      ]
    },
    {
      "cell_type": "code",
      "metadata": {
        "colab": {
          "base_uri": "https://localhost:8080/",
          "height": 323
        },
        "id": "8fx3enXg36UM",
        "outputId": "15817a65-fb4b-4e8f-f67a-820c67eac791"
      },
      "source": [
        "# see the overall experiance aline with the call reasoning\n",
        "cluster_Reason_rate= sns.countplot(data= df2_merge, x= 'Call Reason', hue='1. Overall Experience?',  palette='viridis_r');\n",
        "cluster_Reason_rate.set_xticklabels(cluster_Reason_rate.get_xticklabels(),rotation=30);"
      ],
      "execution_count": 24,
      "outputs": [
        {
          "output_type": "display_data",
          "data": {
            "image/png": "[encoded data removed]",
            "text/plain": [
              "<Figure size 432x288 with 1 Axes>"
            ]
          },
          "metadata": {
            "tags": [],
            "needs_background": "light"
          }
        }
      ]
    },
    {
      "cell_type": "markdown",
      "metadata": {
        "id": "K_M3V1Ew4_Y9"
      },
      "source": [
        "* the highest count of call reasoning is for add services as we mention befor.\n",
        "* we can see that the highest unsatisfaied level where when clients calls to add services, followed with making payment. \n",
        "* clinets who calls for anything but add services, make payment or handest quesiton have a relatively good experiance and satisfaction level compered to others.\n"
      ]
    },
    {
      "cell_type": "code",
      "metadata": {
        "colab": {
          "base_uri": "https://localhost:8080/",
          "height": 424
        },
        "id": "jdGkf0D3gE5K",
        "outputId": "301089f7-f289-4aea-abcd-81fea4c68871"
      },
      "source": [
        "# see the satisafaction rate aline with the call resolution\n",
        "cluster_Resolution_rate= sns.countplot(data= df2_merge, x= 'Call Resolution', hue='1. Overall Experience?', palette='inferno_r');\n",
        "cluster_Resolution_rate.set_xticklabels(cluster_Resolution_rate.get_xticklabels(),rotation=80);"
      ],
      "execution_count": 48,
      "outputs": [
        {
          "output_type": "display_data",
          "data": {
            "image/png": "[encoded data removed]",
            "text/plain": [
              "<Figure size 432x288 with 1 Axes>"
            ]
          },
          "metadata": {
            "tags": [],
            "needs_background": "light"
          }
        }
      ]
    },
    {
      "cell_type": "markdown",
      "metadata": {
        "id": "-QT9c4ub6qPw"
      },
      "source": [
        "* when agent transfer the clinet to other department as to resolve their issue or the phone call disconnected are the highest unsatisfied overall experiance of the customers.\n",
        "* moreover, adding text, minutes, adding credit to client account and explain bills are the highest in term of satisfaction level. "
      ]
    },
    {
      "cell_type": "code",
      "metadata": {
        "colab": {
          "base_uri": "https://localhost:8080/",
          "height": 424
        },
        "id": "O7GodJgrRGgk",
        "outputId": "b2b932e9-6b7b-4012-9cb8-0faa2d0bab8e"
      },
      "source": [
        "# see the Agent role aline with the call resolution\n",
        "cluster_Resolution_role_rate= sns.countplot(data= df2_merge, x= 'Call Resolution', hue='Agent Role', palette='Blues');\n",
        "cluster_Resolution_role_rate.set_xticklabels(cluster_Resolution_role_rate.get_xticklabels(),rotation=80);"
      ],
      "execution_count": 51,
      "outputs": [
        {
          "output_type": "display_data",
          "data": {
            "image/png": "[encoded data removed]",
            "text/plain": [
              "<Figure size 432x288 with 1 Axes>"
            ]
          },
          "metadata": {
            "tags": [],
            "needs_background": "light"
          }
        }
      ]
    },
    {
      "cell_type": "code",
      "metadata": {
        "colab": {
          "base_uri": "https://localhost:8080/",
          "height": 331
        },
        "id": "feUS0fWGSe8d",
        "outputId": "cf72b76d-475e-4963-a164-66f8484a447c"
      },
      "source": [
        "# see each agent overall satifaction level.\n",
        "Agent_rate_name = sns.catplot(x=\"1. Overall Experience?\", col=\"Agent Name\",\n",
        "                data=df2_merge, kind=\"count\",\n",
        "                height=4, aspect=.7, palette=\"inferno_r\");"
      ],
      "execution_count": 61,
      "outputs": [
        {
          "output_type": "display_data",
          "data": {
            "image/png": "[encoded data removed]",
            "text/plain": [
              "<Figure size 2016x288 with 10 Axes>"
            ]
          },
          "metadata": {
            "tags": [],
            "needs_background": "light"
          }
        }
      ]
    },
    {
      "cell_type": "code",
      "metadata": {
        "colab": {
          "base_uri": "https://localhost:8080/",
          "height": 430
        },
        "id": "q6eInpbkpGr5",
        "outputId": "3dac59f6-320a-437e-e426-4f34e1539394"
      },
      "source": [
        "# boxplot the call date mean overall satisfaction.\n",
        "boxplot_date_mean= sns.boxplot(x=\"Call Date\", y=\"2c. Courteous\", data= df2_merge)\n",
        "boxplot_date_mean.set_xticklabels(boxplot_date_mean.get_xticklabels(),rotation=70);"
      ],
      "execution_count": 26,
      "outputs": [
        {
          "output_type": "display_data",
          "data": {
            "image/png": "[encoded data removed]",
            "text/plain": [
              "<Figure size 432x288 with 1 Axes>"
            ]
          },
          "metadata": {
            "tags": [],
            "needs_background": "light"
          }
        }
      ]
    },
    {
      "cell_type": "markdown",
      "metadata": {
        "id": "kMF6Csd4i6kP"
      },
      "source": [
        "* we can see that some call date have overall less courteous from the agents which will affect the customer satisfaction level."
      ]
    },
    {
      "cell_type": "code",
      "metadata": {
        "colab": {
          "base_uri": "https://localhost:8080/",
          "height": 311
        },
        "id": "Oc6Bfyslj-nv",
        "outputId": "7279571a-a3dd-45a5-b6fa-c4660458b813"
      },
      "source": [
        "# scan based on agent role what are the satifaction level for different agent tenure.\n",
        "Agent_rate = sns.catplot(x=\"Agent Tenure\", hue=\"1. Overall Experience?\", col=\"Agent Role\",\n",
        "                data=df2_merge, kind=\"count\",\n",
        "                height=4, aspect=.7, palette=\"inferno_r\");"
      ],
      "execution_count": 27,
      "outputs": [
        {
          "output_type": "display_data",
          "data": {
            "image/png": "[encoded data removed]",
            "text/plain": [
              "<Figure size 523.7x288 with 2 Axes>"
            ]
          },
          "metadata": {
            "tags": [],
            "needs_background": "light"
          }
        }
      ]
    },
    {
      "cell_type": "markdown",
      "metadata": {
        "id": "uIxG-lB_vZWa"
      },
      "source": [
        "* the charts indicats that the highest count= are for the agents who work from 0-30 days in organization.\n",
        "* the highest unsatisfaied clients are which who dealing with agent in tier 1 in which they are under 30 days of work.\n",
        "* all tier 2 agents are getting very good satisfaction level , with no below 3 rate."
      ]
    },
    {
      "cell_type": "markdown",
      "metadata": {
        "id": "qRl96xzFSNv1"
      },
      "source": [
        "# Data Preprocessing"
      ]
    },
    {
      "cell_type": "markdown",
      "metadata": {
        "id": "PJzacK2vSpeF"
      },
      "source": [
        "In this section i will go prepare the data to fit to the model, that will happen by creating dummies for all categorical variables. In addtion, drop the columns that are not nessery to add.  As the model of logistic regression will understand 1 or 0 so i will change the data as follow:\n",
        "   from 1 to 3 will be change as customer are not satisfied.\n",
        "   from 4 to 5 will be change as customer are satisfied."
      ]
    },
    {
      "cell_type": "code",
      "metadata": {
        "colab": {
          "base_uri": "https://localhost:8080/",
          "height": 374
        },
        "id": "BH2F5lUuwNnT",
        "outputId": "7156673e-7dd3-418b-b45c-1001fa529af1"
      },
      "source": [
        "# creat new columns that contian the dummies of Call Reason, Call Resolution, and Agent Role to fit into the model.\n",
        "df_final= pd.get_dummies(df2_merge, columns=['Call Reason','Call Resolution','Agent Role'])\n",
        "df_final.head()"
      ],
      "execution_count": 28,
      "outputs": [
        {
          "output_type": "execute_result",
          "data": {
            "text/html": [
              "<div>\n",
              "<style scoped>\n",
              "    .dataframe tbody tr th:only-of-type {\n",
              "        vertical-align: middle;\n",
              "    }\n",
              "\n",
              "    .dataframe tbody tr th {\n",
              "        vertical-align: top;\n",
              "    }\n",
              "\n",
              "    .dataframe thead th {\n",
              "        text-align: right;\n",
              "    }\n",
              "</style>\n",
              "<table border=\"1\" class=\"dataframe\">\n",
              "  <thead>\n",
              "    <tr style=\"text-align: right;\">\n",
              "      <th></th>\n",
              "      <th>Account Number</th>\n",
              "      <th>Interaction ID</th>\n",
              "      <th>Call Date</th>\n",
              "      <th>Agent ID</th>\n",
              "      <th>1. Overall Experience?</th>\n",
              "      <th>2a. Agent Quality of Service</th>\n",
              "      <th>2b. Resolve Issue</th>\n",
              "      <th>2c. Courteous</th>\n",
              "      <th>2d. Knowledgeable</th>\n",
              "      <th>Agent Name</th>\n",
              "      <th>Agent Tenure</th>\n",
              "      <th>Call Reason_Add Services</th>\n",
              "      <th>Call Reason_Billing Dispute</th>\n",
              "      <th>Call Reason_Billing Question</th>\n",
              "      <th>Call Reason_Cancel Service</th>\n",
              "      <th>Call Reason_Change Plan</th>\n",
              "      <th>Call Reason_Handset Question</th>\n",
              "      <th>Call Reason_Make Payment</th>\n",
              "      <th>Call Reason_Service Question</th>\n",
              "      <th>Call Resolution_Activate Handset</th>\n",
              "      <th>Call Resolution_Add Minutes</th>\n",
              "      <th>Call Resolution_Add Text</th>\n",
              "      <th>Call Resolution_Cancel Service</th>\n",
              "      <th>Call Resolution_Change Plan</th>\n",
              "      <th>Call Resolution_Credit Account</th>\n",
              "      <th>Call Resolution_Explain Bill (no changes made)</th>\n",
              "      <th>Call Resolution_Phone Disconnect</th>\n",
              "      <th>Call Resolution_Process Payment</th>\n",
              "      <th>Call Resolution_Transfer (Other Dept)</th>\n",
              "      <th>Agent Role_Tier 1</th>\n",
              "      <th>Agent Role_Tier 2</th>\n",
              "    </tr>\n",
              "  </thead>\n",
              "  <tbody>\n",
              "    <tr>\n",
              "      <th>0</th>\n",
              "      <td>9000001</td>\n",
              "      <td>1234501</td>\n",
              "      <td>2010-04-15</td>\n",
              "      <td>1</td>\n",
              "      <td>3</td>\n",
              "      <td>2</td>\n",
              "      <td>1</td>\n",
              "      <td>3</td>\n",
              "      <td>1</td>\n",
              "      <td>Smith, John</td>\n",
              "      <td>0-30</td>\n",
              "      <td>1</td>\n",
              "      <td>0</td>\n",
              "      <td>0</td>\n",
              "      <td>0</td>\n",
              "      <td>0</td>\n",
              "      <td>0</td>\n",
              "      <td>0</td>\n",
              "      <td>0</td>\n",
              "      <td>0</td>\n",
              "      <td>0</td>\n",
              "      <td>0</td>\n",
              "      <td>0</td>\n",
              "      <td>0</td>\n",
              "      <td>0</td>\n",
              "      <td>0</td>\n",
              "      <td>0</td>\n",
              "      <td>0</td>\n",
              "      <td>1</td>\n",
              "      <td>1</td>\n",
              "      <td>0</td>\n",
              "    </tr>\n",
              "    <tr>\n",
              "      <th>1</th>\n",
              "      <td>9000031</td>\n",
              "      <td>1234506</td>\n",
              "      <td>2010-04-15</td>\n",
              "      <td>1</td>\n",
              "      <td>4</td>\n",
              "      <td>3</td>\n",
              "      <td>3</td>\n",
              "      <td>4</td>\n",
              "      <td>4</td>\n",
              "      <td>Smith, John</td>\n",
              "      <td>0-30</td>\n",
              "      <td>0</td>\n",
              "      <td>1</td>\n",
              "      <td>0</td>\n",
              "      <td>0</td>\n",
              "      <td>0</td>\n",
              "      <td>0</td>\n",
              "      <td>0</td>\n",
              "      <td>0</td>\n",
              "      <td>0</td>\n",
              "      <td>0</td>\n",
              "      <td>0</td>\n",
              "      <td>0</td>\n",
              "      <td>0</td>\n",
              "      <td>1</td>\n",
              "      <td>0</td>\n",
              "      <td>0</td>\n",
              "      <td>0</td>\n",
              "      <td>0</td>\n",
              "      <td>1</td>\n",
              "      <td>0</td>\n",
              "    </tr>\n",
              "    <tr>\n",
              "      <th>2</th>\n",
              "      <td>9000060</td>\n",
              "      <td>1234521</td>\n",
              "      <td>2010-04-16</td>\n",
              "      <td>1</td>\n",
              "      <td>2</td>\n",
              "      <td>4</td>\n",
              "      <td>3</td>\n",
              "      <td>5</td>\n",
              "      <td>4</td>\n",
              "      <td>Smith, John</td>\n",
              "      <td>0-30</td>\n",
              "      <td>0</td>\n",
              "      <td>0</td>\n",
              "      <td>0</td>\n",
              "      <td>0</td>\n",
              "      <td>0</td>\n",
              "      <td>0</td>\n",
              "      <td>1</td>\n",
              "      <td>0</td>\n",
              "      <td>0</td>\n",
              "      <td>0</td>\n",
              "      <td>0</td>\n",
              "      <td>0</td>\n",
              "      <td>0</td>\n",
              "      <td>0</td>\n",
              "      <td>0</td>\n",
              "      <td>1</td>\n",
              "      <td>0</td>\n",
              "      <td>0</td>\n",
              "      <td>1</td>\n",
              "      <td>0</td>\n",
              "    </tr>\n",
              "    <tr>\n",
              "      <th>3</th>\n",
              "      <td>9000024</td>\n",
              "      <td>1234525</td>\n",
              "      <td>2010-04-17</td>\n",
              "      <td>1</td>\n",
              "      <td>3</td>\n",
              "      <td>4</td>\n",
              "      <td>4</td>\n",
              "      <td>3</td>\n",
              "      <td>4</td>\n",
              "      <td>Smith, John</td>\n",
              "      <td>0-30</td>\n",
              "      <td>0</td>\n",
              "      <td>0</td>\n",
              "      <td>1</td>\n",
              "      <td>0</td>\n",
              "      <td>0</td>\n",
              "      <td>0</td>\n",
              "      <td>0</td>\n",
              "      <td>0</td>\n",
              "      <td>0</td>\n",
              "      <td>0</td>\n",
              "      <td>0</td>\n",
              "      <td>0</td>\n",
              "      <td>0</td>\n",
              "      <td>0</td>\n",
              "      <td>1</td>\n",
              "      <td>0</td>\n",
              "      <td>0</td>\n",
              "      <td>0</td>\n",
              "      <td>1</td>\n",
              "      <td>0</td>\n",
              "    </tr>\n",
              "    <tr>\n",
              "      <th>4</th>\n",
              "      <td>9000025</td>\n",
              "      <td>1234542</td>\n",
              "      <td>2010-04-19</td>\n",
              "      <td>1</td>\n",
              "      <td>5</td>\n",
              "      <td>5</td>\n",
              "      <td>4</td>\n",
              "      <td>5</td>\n",
              "      <td>5</td>\n",
              "      <td>Smith, John</td>\n",
              "      <td>0-30</td>\n",
              "      <td>0</td>\n",
              "      <td>0</td>\n",
              "      <td>0</td>\n",
              "      <td>0</td>\n",
              "      <td>0</td>\n",
              "      <td>0</td>\n",
              "      <td>1</td>\n",
              "      <td>0</td>\n",
              "      <td>0</td>\n",
              "      <td>0</td>\n",
              "      <td>0</td>\n",
              "      <td>0</td>\n",
              "      <td>0</td>\n",
              "      <td>0</td>\n",
              "      <td>0</td>\n",
              "      <td>0</td>\n",
              "      <td>1</td>\n",
              "      <td>0</td>\n",
              "      <td>1</td>\n",
              "      <td>0</td>\n",
              "    </tr>\n",
              "  </tbody>\n",
              "</table>\n",
              "</div>"
            ],
            "text/plain": [
              "   Account Number  Interaction ID  ... Agent Role_Tier 1  Agent Role_Tier 2\n",
              "0         9000001         1234501  ...                 1                  0\n",
              "1         9000031         1234506  ...                 1                  0\n",
              "2         9000060         1234521  ...                 1                  0\n",
              "3         9000024         1234525  ...                 1                  0\n",
              "4         9000025         1234542  ...                 1                  0\n",
              "\n",
              "[5 rows x 31 columns]"
            ]
          },
          "metadata": {
            "tags": []
          },
          "execution_count": 28
        }
      ]
    },
    {
      "cell_type": "code",
      "metadata": {
        "id": "pwcuSuHb3Y61"
      },
      "source": [
        "# To be able to see the overall satisfaction we will take 1,2,3 rate  as not satisfaied , and 4,5 are satisfaied\n",
        "# replace each column with the rates from 1 to 5\n",
        "df_final['1. Overall Experience?']= df_final['1. Overall Experience?'].replace([1,2,3,4,5],[0,0,0,1,1])\n",
        "df_final['2a. Agent Quality of Service']= df_final['2a. Agent Quality of Service'].replace([1,2,3,4,5],[0,0,0,1,1])\n",
        "df_final['2b. Resolve Issue']= df_final['2b. Resolve Issue'].replace([1,2,3,4,5],[0,0,0,1,1])\n",
        "df_final['2c. Courteous']= df_final['2c. Courteous'].replace([1,2,3,4,5],[0,0,0,1,1])\n",
        "df_final['2d. Knowledgeable']= df_final['2d. Knowledgeable'].replace([1,2,3,4,5],[0,0,0,1,1])"
      ],
      "execution_count": 29,
      "outputs": []
    },
    {
      "cell_type": "code",
      "metadata": {
        "colab": {
          "base_uri": "https://localhost:8080/",
          "height": 374
        },
        "id": "vVWaY2oyzH1U",
        "outputId": "b7f8ebc9-781e-41db-b581-18b50dd4a084"
      },
      "source": [
        "#show the results\n",
        "df_final.head()"
      ],
      "execution_count": 30,
      "outputs": [
        {
          "output_type": "execute_result",
          "data": {
            "text/html": [
              "<div>\n",
              "<style scoped>\n",
              "    .dataframe tbody tr th:only-of-type {\n",
              "        vertical-align: middle;\n",
              "    }\n",
              "\n",
              "    .dataframe tbody tr th {\n",
              "        vertical-align: top;\n",
              "    }\n",
              "\n",
              "    .dataframe thead th {\n",
              "        text-align: right;\n",
              "    }\n",
              "</style>\n",
              "<table border=\"1\" class=\"dataframe\">\n",
              "  <thead>\n",
              "    <tr style=\"text-align: right;\">\n",
              "      <th></th>\n",
              "      <th>Account Number</th>\n",
              "      <th>Interaction ID</th>\n",
              "      <th>Call Date</th>\n",
              "      <th>Agent ID</th>\n",
              "      <th>1. Overall Experience?</th>\n",
              "      <th>2a. Agent Quality of Service</th>\n",
              "      <th>2b. Resolve Issue</th>\n",
              "      <th>2c. Courteous</th>\n",
              "      <th>2d. Knowledgeable</th>\n",
              "      <th>Agent Name</th>\n",
              "      <th>Agent Tenure</th>\n",
              "      <th>Call Reason_Add Services</th>\n",
              "      <th>Call Reason_Billing Dispute</th>\n",
              "      <th>Call Reason_Billing Question</th>\n",
              "      <th>Call Reason_Cancel Service</th>\n",
              "      <th>Call Reason_Change Plan</th>\n",
              "      <th>Call Reason_Handset Question</th>\n",
              "      <th>Call Reason_Make Payment</th>\n",
              "      <th>Call Reason_Service Question</th>\n",
              "      <th>Call Resolution_Activate Handset</th>\n",
              "      <th>Call Resolution_Add Minutes</th>\n",
              "      <th>Call Resolution_Add Text</th>\n",
              "      <th>Call Resolution_Cancel Service</th>\n",
              "      <th>Call Resolution_Change Plan</th>\n",
              "      <th>Call Resolution_Credit Account</th>\n",
              "      <th>Call Resolution_Explain Bill (no changes made)</th>\n",
              "      <th>Call Resolution_Phone Disconnect</th>\n",
              "      <th>Call Resolution_Process Payment</th>\n",
              "      <th>Call Resolution_Transfer (Other Dept)</th>\n",
              "      <th>Agent Role_Tier 1</th>\n",
              "      <th>Agent Role_Tier 2</th>\n",
              "    </tr>\n",
              "  </thead>\n",
              "  <tbody>\n",
              "    <tr>\n",
              "      <th>0</th>\n",
              "      <td>9000001</td>\n",
              "      <td>1234501</td>\n",
              "      <td>2010-04-15</td>\n",
              "      <td>1</td>\n",
              "      <td>0</td>\n",
              "      <td>0</td>\n",
              "      <td>0</td>\n",
              "      <td>0</td>\n",
              "      <td>0</td>\n",
              "      <td>Smith, John</td>\n",
              "      <td>0-30</td>\n",
              "      <td>1</td>\n",
              "      <td>0</td>\n",
              "      <td>0</td>\n",
              "      <td>0</td>\n",
              "      <td>0</td>\n",
              "      <td>0</td>\n",
              "      <td>0</td>\n",
              "      <td>0</td>\n",
              "      <td>0</td>\n",
              "      <td>0</td>\n",
              "      <td>0</td>\n",
              "      <td>0</td>\n",
              "      <td>0</td>\n",
              "      <td>0</td>\n",
              "      <td>0</td>\n",
              "      <td>0</td>\n",
              "      <td>0</td>\n",
              "      <td>1</td>\n",
              "      <td>1</td>\n",
              "      <td>0</td>\n",
              "    </tr>\n",
              "    <tr>\n",
              "      <th>1</th>\n",
              "      <td>9000031</td>\n",
              "      <td>1234506</td>\n",
              "      <td>2010-04-15</td>\n",
              "      <td>1</td>\n",
              "      <td>1</td>\n",
              "      <td>0</td>\n",
              "      <td>0</td>\n",
              "      <td>1</td>\n",
              "      <td>1</td>\n",
              "      <td>Smith, John</td>\n",
              "      <td>0-30</td>\n",
              "      <td>0</td>\n",
              "      <td>1</td>\n",
              "      <td>0</td>\n",
              "      <td>0</td>\n",
              "      <td>0</td>\n",
              "      <td>0</td>\n",
              "      <td>0</td>\n",
              "      <td>0</td>\n",
              "      <td>0</td>\n",
              "      <td>0</td>\n",
              "      <td>0</td>\n",
              "      <td>0</td>\n",
              "      <td>0</td>\n",
              "      <td>1</td>\n",
              "      <td>0</td>\n",
              "      <td>0</td>\n",
              "      <td>0</td>\n",
              "      <td>0</td>\n",
              "      <td>1</td>\n",
              "      <td>0</td>\n",
              "    </tr>\n",
              "    <tr>\n",
              "      <th>2</th>\n",
              "      <td>9000060</td>\n",
              "      <td>1234521</td>\n",
              "      <td>2010-04-16</td>\n",
              "      <td>1</td>\n",
              "      <td>0</td>\n",
              "      <td>1</td>\n",
              "      <td>0</td>\n",
              "      <td>1</td>\n",
              "      <td>1</td>\n",
              "      <td>Smith, John</td>\n",
              "      <td>0-30</td>\n",
              "      <td>0</td>\n",
              "      <td>0</td>\n",
              "      <td>0</td>\n",
              "      <td>0</td>\n",
              "      <td>0</td>\n",
              "      <td>0</td>\n",
              "      <td>1</td>\n",
              "      <td>0</td>\n",
              "      <td>0</td>\n",
              "      <td>0</td>\n",
              "      <td>0</td>\n",
              "      <td>0</td>\n",
              "      <td>0</td>\n",
              "      <td>0</td>\n",
              "      <td>0</td>\n",
              "      <td>1</td>\n",
              "      <td>0</td>\n",
              "      <td>0</td>\n",
              "      <td>1</td>\n",
              "      <td>0</td>\n",
              "    </tr>\n",
              "    <tr>\n",
              "      <th>3</th>\n",
              "      <td>9000024</td>\n",
              "      <td>1234525</td>\n",
              "      <td>2010-04-17</td>\n",
              "      <td>1</td>\n",
              "      <td>0</td>\n",
              "      <td>1</td>\n",
              "      <td>1</td>\n",
              "      <td>0</td>\n",
              "      <td>1</td>\n",
              "      <td>Smith, John</td>\n",
              "      <td>0-30</td>\n",
              "      <td>0</td>\n",
              "      <td>0</td>\n",
              "      <td>1</td>\n",
              "      <td>0</td>\n",
              "      <td>0</td>\n",
              "      <td>0</td>\n",
              "      <td>0</td>\n",
              "      <td>0</td>\n",
              "      <td>0</td>\n",
              "      <td>0</td>\n",
              "      <td>0</td>\n",
              "      <td>0</td>\n",
              "      <td>0</td>\n",
              "      <td>0</td>\n",
              "      <td>1</td>\n",
              "      <td>0</td>\n",
              "      <td>0</td>\n",
              "      <td>0</td>\n",
              "      <td>1</td>\n",
              "      <td>0</td>\n",
              "    </tr>\n",
              "    <tr>\n",
              "      <th>4</th>\n",
              "      <td>9000025</td>\n",
              "      <td>1234542</td>\n",
              "      <td>2010-04-19</td>\n",
              "      <td>1</td>\n",
              "      <td>1</td>\n",
              "      <td>1</td>\n",
              "      <td>1</td>\n",
              "      <td>1</td>\n",
              "      <td>1</td>\n",
              "      <td>Smith, John</td>\n",
              "      <td>0-30</td>\n",
              "      <td>0</td>\n",
              "      <td>0</td>\n",
              "      <td>0</td>\n",
              "      <td>0</td>\n",
              "      <td>0</td>\n",
              "      <td>0</td>\n",
              "      <td>1</td>\n",
              "      <td>0</td>\n",
              "      <td>0</td>\n",
              "      <td>0</td>\n",
              "      <td>0</td>\n",
              "      <td>0</td>\n",
              "      <td>0</td>\n",
              "      <td>0</td>\n",
              "      <td>0</td>\n",
              "      <td>0</td>\n",
              "      <td>1</td>\n",
              "      <td>0</td>\n",
              "      <td>1</td>\n",
              "      <td>0</td>\n",
              "    </tr>\n",
              "  </tbody>\n",
              "</table>\n",
              "</div>"
            ],
            "text/plain": [
              "   Account Number  Interaction ID  ... Agent Role_Tier 1  Agent Role_Tier 2\n",
              "0         9000001         1234501  ...                 1                  0\n",
              "1         9000031         1234506  ...                 1                  0\n",
              "2         9000060         1234521  ...                 1                  0\n",
              "3         9000024         1234525  ...                 1                  0\n",
              "4         9000025         1234542  ...                 1                  0\n",
              "\n",
              "[5 rows x 31 columns]"
            ]
          },
          "metadata": {
            "tags": []
          },
          "execution_count": 30
        }
      ]
    },
    {
      "cell_type": "code",
      "metadata": {
        "colab": {
          "base_uri": "https://localhost:8080/",
          "height": 374
        },
        "id": "Myn6iI4Dw8dD",
        "outputId": "ec97f4a8-1591-49b3-bda1-2488e4d95f61"
      },
      "source": [
        "# Drop the unnesserary columns.\n",
        "df_final.drop(df_final.columns[[0,1,9,10]],axis=1, inplace=True)\n",
        "df_final.head()"
      ],
      "execution_count": 31,
      "outputs": [
        {
          "output_type": "execute_result",
          "data": {
            "text/html": [
              "<div>\n",
              "<style scoped>\n",
              "    .dataframe tbody tr th:only-of-type {\n",
              "        vertical-align: middle;\n",
              "    }\n",
              "\n",
              "    .dataframe tbody tr th {\n",
              "        vertical-align: top;\n",
              "    }\n",
              "\n",
              "    .dataframe thead th {\n",
              "        text-align: right;\n",
              "    }\n",
              "</style>\n",
              "<table border=\"1\" class=\"dataframe\">\n",
              "  <thead>\n",
              "    <tr style=\"text-align: right;\">\n",
              "      <th></th>\n",
              "      <th>Call Date</th>\n",
              "      <th>Agent ID</th>\n",
              "      <th>1. Overall Experience?</th>\n",
              "      <th>2a. Agent Quality of Service</th>\n",
              "      <th>2b. Resolve Issue</th>\n",
              "      <th>2c. Courteous</th>\n",
              "      <th>2d. Knowledgeable</th>\n",
              "      <th>Call Reason_Add Services</th>\n",
              "      <th>Call Reason_Billing Dispute</th>\n",
              "      <th>Call Reason_Billing Question</th>\n",
              "      <th>Call Reason_Cancel Service</th>\n",
              "      <th>Call Reason_Change Plan</th>\n",
              "      <th>Call Reason_Handset Question</th>\n",
              "      <th>Call Reason_Make Payment</th>\n",
              "      <th>Call Reason_Service Question</th>\n",
              "      <th>Call Resolution_Activate Handset</th>\n",
              "      <th>Call Resolution_Add Minutes</th>\n",
              "      <th>Call Resolution_Add Text</th>\n",
              "      <th>Call Resolution_Cancel Service</th>\n",
              "      <th>Call Resolution_Change Plan</th>\n",
              "      <th>Call Resolution_Credit Account</th>\n",
              "      <th>Call Resolution_Explain Bill (no changes made)</th>\n",
              "      <th>Call Resolution_Phone Disconnect</th>\n",
              "      <th>Call Resolution_Process Payment</th>\n",
              "      <th>Call Resolution_Transfer (Other Dept)</th>\n",
              "      <th>Agent Role_Tier 1</th>\n",
              "      <th>Agent Role_Tier 2</th>\n",
              "    </tr>\n",
              "  </thead>\n",
              "  <tbody>\n",
              "    <tr>\n",
              "      <th>0</th>\n",
              "      <td>2010-04-15</td>\n",
              "      <td>1</td>\n",
              "      <td>0</td>\n",
              "      <td>0</td>\n",
              "      <td>0</td>\n",
              "      <td>0</td>\n",
              "      <td>0</td>\n",
              "      <td>1</td>\n",
              "      <td>0</td>\n",
              "      <td>0</td>\n",
              "      <td>0</td>\n",
              "      <td>0</td>\n",
              "      <td>0</td>\n",
              "      <td>0</td>\n",
              "      <td>0</td>\n",
              "      <td>0</td>\n",
              "      <td>0</td>\n",
              "      <td>0</td>\n",
              "      <td>0</td>\n",
              "      <td>0</td>\n",
              "      <td>0</td>\n",
              "      <td>0</td>\n",
              "      <td>0</td>\n",
              "      <td>0</td>\n",
              "      <td>1</td>\n",
              "      <td>1</td>\n",
              "      <td>0</td>\n",
              "    </tr>\n",
              "    <tr>\n",
              "      <th>1</th>\n",
              "      <td>2010-04-15</td>\n",
              "      <td>1</td>\n",
              "      <td>1</td>\n",
              "      <td>0</td>\n",
              "      <td>0</td>\n",
              "      <td>1</td>\n",
              "      <td>1</td>\n",
              "      <td>0</td>\n",
              "      <td>1</td>\n",
              "      <td>0</td>\n",
              "      <td>0</td>\n",
              "      <td>0</td>\n",
              "      <td>0</td>\n",
              "      <td>0</td>\n",
              "      <td>0</td>\n",
              "      <td>0</td>\n",
              "      <td>0</td>\n",
              "      <td>0</td>\n",
              "      <td>0</td>\n",
              "      <td>0</td>\n",
              "      <td>1</td>\n",
              "      <td>0</td>\n",
              "      <td>0</td>\n",
              "      <td>0</td>\n",
              "      <td>0</td>\n",
              "      <td>1</td>\n",
              "      <td>0</td>\n",
              "    </tr>\n",
              "    <tr>\n",
              "      <th>2</th>\n",
              "      <td>2010-04-16</td>\n",
              "      <td>1</td>\n",
              "      <td>0</td>\n",
              "      <td>1</td>\n",
              "      <td>0</td>\n",
              "      <td>1</td>\n",
              "      <td>1</td>\n",
              "      <td>0</td>\n",
              "      <td>0</td>\n",
              "      <td>0</td>\n",
              "      <td>0</td>\n",
              "      <td>0</td>\n",
              "      <td>0</td>\n",
              "      <td>1</td>\n",
              "      <td>0</td>\n",
              "      <td>0</td>\n",
              "      <td>0</td>\n",
              "      <td>0</td>\n",
              "      <td>0</td>\n",
              "      <td>0</td>\n",
              "      <td>0</td>\n",
              "      <td>0</td>\n",
              "      <td>1</td>\n",
              "      <td>0</td>\n",
              "      <td>0</td>\n",
              "      <td>1</td>\n",
              "      <td>0</td>\n",
              "    </tr>\n",
              "    <tr>\n",
              "      <th>3</th>\n",
              "      <td>2010-04-17</td>\n",
              "      <td>1</td>\n",
              "      <td>0</td>\n",
              "      <td>1</td>\n",
              "      <td>1</td>\n",
              "      <td>0</td>\n",
              "      <td>1</td>\n",
              "      <td>0</td>\n",
              "      <td>0</td>\n",
              "      <td>1</td>\n",
              "      <td>0</td>\n",
              "      <td>0</td>\n",
              "      <td>0</td>\n",
              "      <td>0</td>\n",
              "      <td>0</td>\n",
              "      <td>0</td>\n",
              "      <td>0</td>\n",
              "      <td>0</td>\n",
              "      <td>0</td>\n",
              "      <td>0</td>\n",
              "      <td>0</td>\n",
              "      <td>1</td>\n",
              "      <td>0</td>\n",
              "      <td>0</td>\n",
              "      <td>0</td>\n",
              "      <td>1</td>\n",
              "      <td>0</td>\n",
              "    </tr>\n",
              "    <tr>\n",
              "      <th>4</th>\n",
              "      <td>2010-04-19</td>\n",
              "      <td>1</td>\n",
              "      <td>1</td>\n",
              "      <td>1</td>\n",
              "      <td>1</td>\n",
              "      <td>1</td>\n",
              "      <td>1</td>\n",
              "      <td>0</td>\n",
              "      <td>0</td>\n",
              "      <td>0</td>\n",
              "      <td>0</td>\n",
              "      <td>0</td>\n",
              "      <td>0</td>\n",
              "      <td>1</td>\n",
              "      <td>0</td>\n",
              "      <td>0</td>\n",
              "      <td>0</td>\n",
              "      <td>0</td>\n",
              "      <td>0</td>\n",
              "      <td>0</td>\n",
              "      <td>0</td>\n",
              "      <td>0</td>\n",
              "      <td>0</td>\n",
              "      <td>1</td>\n",
              "      <td>0</td>\n",
              "      <td>1</td>\n",
              "      <td>0</td>\n",
              "    </tr>\n",
              "  </tbody>\n",
              "</table>\n",
              "</div>"
            ],
            "text/plain": [
              "   Call Date  Agent ID  ...  Agent Role_Tier 1  Agent Role_Tier 2\n",
              "0 2010-04-15         1  ...                  1                  0\n",
              "1 2010-04-15         1  ...                  1                  0\n",
              "2 2010-04-16         1  ...                  1                  0\n",
              "3 2010-04-17         1  ...                  1                  0\n",
              "4 2010-04-19         1  ...                  1                  0\n",
              "\n",
              "[5 rows x 27 columns]"
            ]
          },
          "metadata": {
            "tags": []
          },
          "execution_count": 31
        }
      ]
    },
    {
      "cell_type": "code",
      "metadata": {
        "id": "GF83Yx8dAFLp"
      },
      "source": [
        "# Split the data into training and test sets\n",
        "X= df_final.iloc[:,3:27]\n",
        "y= df_final.iloc[:,2]\n",
        "X_train, X_test, y_train, y_test = train_test_split(X, y, test_size=0.2)"
      ],
      "execution_count": 32,
      "outputs": []
    },
    {
      "cell_type": "code",
      "metadata": {
        "colab": {
          "base_uri": "https://localhost:8080/",
          "height": 1000
        },
        "id": "8ZCL27FPqc54",
        "outputId": "025871fe-8fdc-4cf8-85fb-820bfca68f00"
      },
      "source": [
        "#see the correlation between variables.\n",
        "df_final.corr()"
      ],
      "execution_count": 33,
      "outputs": [
        {
          "output_type": "execute_result",
          "data": {
            "text/html": [
              "<div>\n",
              "<style scoped>\n",
              "    .dataframe tbody tr th:only-of-type {\n",
              "        vertical-align: middle;\n",
              "    }\n",
              "\n",
              "    .dataframe tbody tr th {\n",
              "        vertical-align: top;\n",
              "    }\n",
              "\n",
              "    .dataframe thead th {\n",
              "        text-align: right;\n",
              "    }\n",
              "</style>\n",
              "<table border=\"1\" class=\"dataframe\">\n",
              "  <thead>\n",
              "    <tr style=\"text-align: right;\">\n",
              "      <th></th>\n",
              "      <th>Agent ID</th>\n",
              "      <th>1. Overall Experience?</th>\n",
              "      <th>2a. Agent Quality of Service</th>\n",
              "      <th>2b. Resolve Issue</th>\n",
              "      <th>2c. Courteous</th>\n",
              "      <th>2d. Knowledgeable</th>\n",
              "      <th>Call Reason_Add Services</th>\n",
              "      <th>Call Reason_Billing Dispute</th>\n",
              "      <th>Call Reason_Billing Question</th>\n",
              "      <th>Call Reason_Cancel Service</th>\n",
              "      <th>Call Reason_Change Plan</th>\n",
              "      <th>Call Reason_Handset Question</th>\n",
              "      <th>Call Reason_Make Payment</th>\n",
              "      <th>Call Reason_Service Question</th>\n",
              "      <th>Call Resolution_Activate Handset</th>\n",
              "      <th>Call Resolution_Add Minutes</th>\n",
              "      <th>Call Resolution_Add Text</th>\n",
              "      <th>Call Resolution_Cancel Service</th>\n",
              "      <th>Call Resolution_Change Plan</th>\n",
              "      <th>Call Resolution_Credit Account</th>\n",
              "      <th>Call Resolution_Explain Bill (no changes made)</th>\n",
              "      <th>Call Resolution_Phone Disconnect</th>\n",
              "      <th>Call Resolution_Process Payment</th>\n",
              "      <th>Call Resolution_Transfer (Other Dept)</th>\n",
              "      <th>Agent Role_Tier 1</th>\n",
              "      <th>Agent Role_Tier 2</th>\n",
              "    </tr>\n",
              "  </thead>\n",
              "  <tbody>\n",
              "    <tr>\n",
              "      <th>Agent ID</th>\n",
              "      <td>1.000000</td>\n",
              "      <td>0.030279</td>\n",
              "      <td>0.042449</td>\n",
              "      <td>-7.359574e-02</td>\n",
              "      <td>0.067010</td>\n",
              "      <td>-0.064548</td>\n",
              "      <td>0.007956</td>\n",
              "      <td>0.009945</td>\n",
              "      <td>-7.801791e-04</td>\n",
              "      <td>-0.111596</td>\n",
              "      <td>0.014206</td>\n",
              "      <td>0.123487</td>\n",
              "      <td>0.004469</td>\n",
              "      <td>-0.031873</td>\n",
              "      <td>0.140326</td>\n",
              "      <td>0.010169</td>\n",
              "      <td>-0.021238</td>\n",
              "      <td>0.135767</td>\n",
              "      <td>-0.048234</td>\n",
              "      <td>-0.111809</td>\n",
              "      <td>-1.261566e-02</td>\n",
              "      <td>-0.020119</td>\n",
              "      <td>0.011864</td>\n",
              "      <td>0.008806</td>\n",
              "      <td>-0.000769</td>\n",
              "      <td>0.000769</td>\n",
              "    </tr>\n",
              "    <tr>\n",
              "      <th>1. Overall Experience?</th>\n",
              "      <td>0.030279</td>\n",
              "      <td>1.000000</td>\n",
              "      <td>0.183024</td>\n",
              "      <td>2.549250e-01</td>\n",
              "      <td>0.736846</td>\n",
              "      <td>0.236360</td>\n",
              "      <td>-0.072836</td>\n",
              "      <td>0.072836</td>\n",
              "      <td>-1.428426e-02</td>\n",
              "      <td>0.024617</td>\n",
              "      <td>0.069560</td>\n",
              "      <td>-0.062456</td>\n",
              "      <td>-0.008614</td>\n",
              "      <td>0.024617</td>\n",
              "      <td>-0.074605</td>\n",
              "      <td>0.186187</td>\n",
              "      <td>0.113662</td>\n",
              "      <td>-0.062456</td>\n",
              "      <td>0.069560</td>\n",
              "      <td>0.113662</td>\n",
              "      <td>8.709060e-02</td>\n",
              "      <td>-0.172525</td>\n",
              "      <td>0.041774</td>\n",
              "      <td>-0.391555</td>\n",
              "      <td>-0.222732</td>\n",
              "      <td>0.222732</td>\n",
              "    </tr>\n",
              "    <tr>\n",
              "      <th>2a. Agent Quality of Service</th>\n",
              "      <td>0.042449</td>\n",
              "      <td>0.183024</td>\n",
              "      <td>1.000000</td>\n",
              "      <td>2.913428e-01</td>\n",
              "      <td>0.209117</td>\n",
              "      <td>0.542990</td>\n",
              "      <td>-0.182089</td>\n",
              "      <td>0.127462</td>\n",
              "      <td>-8.094412e-02</td>\n",
              "      <td>0.085435</td>\n",
              "      <td>0.069560</td>\n",
              "      <td>0.087439</td>\n",
              "      <td>-0.008614</td>\n",
              "      <td>0.024617</td>\n",
              "      <td>0.023314</td>\n",
              "      <td>0.138212</td>\n",
              "      <td>0.063411</td>\n",
              "      <td>0.087439</td>\n",
              "      <td>0.006049</td>\n",
              "      <td>0.113662</td>\n",
              "      <td>3.407893e-02</td>\n",
              "      <td>0.023314</td>\n",
              "      <td>-0.016710</td>\n",
              "      <td>-0.391555</td>\n",
              "      <td>-0.222732</td>\n",
              "      <td>0.222732</td>\n",
              "    </tr>\n",
              "    <tr>\n",
              "      <th>2b. Resolve Issue</th>\n",
              "      <td>-0.073596</td>\n",
              "      <td>0.254925</td>\n",
              "      <td>0.291343</td>\n",
              "      <td>1.000000e+00</td>\n",
              "      <td>0.061611</td>\n",
              "      <td>0.275647</td>\n",
              "      <td>-0.071429</td>\n",
              "      <td>0.035714</td>\n",
              "      <td>-4.898985e-17</td>\n",
              "      <td>-0.019881</td>\n",
              "      <td>0.145330</td>\n",
              "      <td>0.024500</td>\n",
              "      <td>-0.073914</td>\n",
              "      <td>0.039762</td>\n",
              "      <td>-0.064018</td>\n",
              "      <td>0.109778</td>\n",
              "      <td>0.229972</td>\n",
              "      <td>0.024500</td>\n",
              "      <td>0.083045</td>\n",
              "      <td>0.131413</td>\n",
              "      <td>1.731532e-17</td>\n",
              "      <td>-0.064018</td>\n",
              "      <td>-0.114708</td>\n",
              "      <td>-0.361403</td>\n",
              "      <td>-0.125048</td>\n",
              "      <td>0.125048</td>\n",
              "    </tr>\n",
              "    <tr>\n",
              "      <th>2c. Courteous</th>\n",
              "      <td>0.067010</td>\n",
              "      <td>0.736846</td>\n",
              "      <td>0.209117</td>\n",
              "      <td>6.161113e-02</td>\n",
              "      <td>1.000000</td>\n",
              "      <td>0.067005</td>\n",
              "      <td>-0.135544</td>\n",
              "      <td>0.061611</td>\n",
              "      <td>-2.416587e-02</td>\n",
              "      <td>0.014209</td>\n",
              "      <td>0.060375</td>\n",
              "      <td>0.004226</td>\n",
              "      <td>0.067034</td>\n",
              "      <td>0.014209</td>\n",
              "      <td>0.017355</td>\n",
              "      <td>0.076911</td>\n",
              "      <td>-0.000405</td>\n",
              "      <td>-0.071850</td>\n",
              "      <td>0.060375</td>\n",
              "      <td>0.101611</td>\n",
              "      <td>7.559103e-02</td>\n",
              "      <td>-0.082040</td>\n",
              "      <td>0.090461</td>\n",
              "      <td>-0.272764</td>\n",
              "      <td>-0.125791</td>\n",
              "      <td>0.125791</td>\n",
              "    </tr>\n",
              "    <tr>\n",
              "      <th>2d. Knowledgeable</th>\n",
              "      <td>-0.064548</td>\n",
              "      <td>0.236360</td>\n",
              "      <td>0.542990</td>\n",
              "      <td>2.756468e-01</td>\n",
              "      <td>0.067005</td>\n",
              "      <td>1.000000</td>\n",
              "      <td>-0.350823</td>\n",
              "      <td>0.162882</td>\n",
              "      <td>-1.032031e-01</td>\n",
              "      <td>0.003487</td>\n",
              "      <td>0.182089</td>\n",
              "      <td>0.073058</td>\n",
              "      <td>0.145212</td>\n",
              "      <td>0.066260</td>\n",
              "      <td>0.011230</td>\n",
              "      <td>0.013754</td>\n",
              "      <td>0.037458</td>\n",
              "      <td>0.073058</td>\n",
              "      <td>0.050985</td>\n",
              "      <td>-0.014407</td>\n",
              "      <td>1.732651e-01</td>\n",
              "      <td>0.011230</td>\n",
              "      <td>0.080484</td>\n",
              "      <td>-0.340744</td>\n",
              "      <td>-0.169497</td>\n",
              "      <td>0.169497</td>\n",
              "    </tr>\n",
              "    <tr>\n",
              "      <th>Call Reason_Add Services</th>\n",
              "      <td>0.007956</td>\n",
              "      <td>-0.072836</td>\n",
              "      <td>-0.182089</td>\n",
              "      <td>-7.142857e-02</td>\n",
              "      <td>-0.135544</td>\n",
              "      <td>-0.350823</td>\n",
              "      <td>1.000000</td>\n",
              "      <td>-0.250000</td>\n",
              "      <td>-1.961161e-01</td>\n",
              "      <td>-0.218692</td>\n",
              "      <td>-0.207614</td>\n",
              "      <td>-0.171499</td>\n",
              "      <td>-0.325222</td>\n",
              "      <td>-0.218692</td>\n",
              "      <td>-0.128037</td>\n",
              "      <td>0.454794</td>\n",
              "      <td>0.410665</td>\n",
              "      <td>-0.171499</td>\n",
              "      <td>-0.207614</td>\n",
              "      <td>-0.279252</td>\n",
              "      <td>-2.599376e-01</td>\n",
              "      <td>-0.128037</td>\n",
              "      <td>-0.229416</td>\n",
              "      <td>0.225877</td>\n",
              "      <td>-0.079576</td>\n",
              "      <td>0.079576</td>\n",
              "    </tr>\n",
              "    <tr>\n",
              "      <th>Call Reason_Billing Dispute</th>\n",
              "      <td>0.009945</td>\n",
              "      <td>0.072836</td>\n",
              "      <td>0.127462</td>\n",
              "      <td>3.571429e-02</td>\n",
              "      <td>0.061611</td>\n",
              "      <td>0.162882</td>\n",
              "      <td>-0.250000</td>\n",
              "      <td>1.000000</td>\n",
              "      <td>-9.805807e-02</td>\n",
              "      <td>-0.109346</td>\n",
              "      <td>-0.103807</td>\n",
              "      <td>-0.085749</td>\n",
              "      <td>-0.162611</td>\n",
              "      <td>-0.109346</td>\n",
              "      <td>-0.064018</td>\n",
              "      <td>-0.148984</td>\n",
              "      <td>-0.139626</td>\n",
              "      <td>0.355247</td>\n",
              "      <td>-0.103807</td>\n",
              "      <td>0.303892</td>\n",
              "      <td>1.819563e-01</td>\n",
              "      <td>-0.064018</td>\n",
              "      <td>-0.114708</td>\n",
              "      <td>-0.158114</td>\n",
              "      <td>0.045472</td>\n",
              "      <td>-0.045472</td>\n",
              "    </tr>\n",
              "    <tr>\n",
              "      <th>Call Reason_Billing Question</th>\n",
              "      <td>-0.000780</td>\n",
              "      <td>-0.014284</td>\n",
              "      <td>-0.080944</td>\n",
              "      <td>-4.898985e-17</td>\n",
              "      <td>-0.024166</td>\n",
              "      <td>-0.103203</td>\n",
              "      <td>-0.196116</td>\n",
              "      <td>-0.098058</td>\n",
              "      <td>1.000000e+00</td>\n",
              "      <td>-0.085778</td>\n",
              "      <td>-0.081433</td>\n",
              "      <td>-0.067267</td>\n",
              "      <td>-0.127562</td>\n",
              "      <td>-0.085778</td>\n",
              "      <td>-0.050220</td>\n",
              "      <td>-0.116873</td>\n",
              "      <td>-0.109532</td>\n",
              "      <td>-0.067267</td>\n",
              "      <td>0.260585</td>\n",
              "      <td>0.161076</td>\n",
              "      <td>1.835207e-01</td>\n",
              "      <td>-0.050220</td>\n",
              "      <td>-0.089984</td>\n",
              "      <td>-0.124035</td>\n",
              "      <td>0.111473</td>\n",
              "      <td>-0.111473</td>\n",
              "    </tr>\n",
              "    <tr>\n",
              "      <th>Call Reason_Cancel Service</th>\n",
              "      <td>-0.111596</td>\n",
              "      <td>0.024617</td>\n",
              "      <td>0.085435</td>\n",
              "      <td>-1.988107e-02</td>\n",
              "      <td>0.014209</td>\n",
              "      <td>0.003487</td>\n",
              "      <td>-0.218692</td>\n",
              "      <td>-0.109346</td>\n",
              "      <td>-8.577797e-02</td>\n",
              "      <td>1.000000</td>\n",
              "      <td>-0.090807</td>\n",
              "      <td>-0.075011</td>\n",
              "      <td>-0.142247</td>\n",
              "      <td>-0.095652</td>\n",
              "      <td>-0.056001</td>\n",
              "      <td>-0.130326</td>\n",
              "      <td>-0.122140</td>\n",
              "      <td>0.293223</td>\n",
              "      <td>0.221238</td>\n",
              "      <td>0.124753</td>\n",
              "      <td>5.994692e-02</td>\n",
              "      <td>-0.056001</td>\n",
              "      <td>-0.100343</td>\n",
              "      <td>-0.138313</td>\n",
              "      <td>-0.021245</td>\n",
              "      <td>0.021245</td>\n",
              "    </tr>\n",
              "    <tr>\n",
              "      <th>Call Reason_Change Plan</th>\n",
              "      <td>0.014206</td>\n",
              "      <td>0.069560</td>\n",
              "      <td>0.069560</td>\n",
              "      <td>1.453296e-01</td>\n",
              "      <td>0.060375</td>\n",
              "      <td>0.182089</td>\n",
              "      <td>-0.207614</td>\n",
              "      <td>-0.103807</td>\n",
              "      <td>-8.143279e-02</td>\n",
              "      <td>-0.090807</td>\n",
              "      <td>1.000000</td>\n",
              "      <td>-0.071211</td>\n",
              "      <td>-0.135041</td>\n",
              "      <td>-0.090807</td>\n",
              "      <td>-0.053164</td>\n",
              "      <td>0.122422</td>\n",
              "      <td>0.141872</td>\n",
              "      <td>-0.071211</td>\n",
              "      <td>0.348276</td>\n",
              "      <td>-0.115953</td>\n",
              "      <td>-1.079332e-01</td>\n",
              "      <td>-0.053164</td>\n",
              "      <td>-0.095260</td>\n",
              "      <td>-0.131306</td>\n",
              "      <td>-0.047203</td>\n",
              "      <td>0.047203</td>\n",
              "    </tr>\n",
              "    <tr>\n",
              "      <th>Call Reason_Handset Question</th>\n",
              "      <td>0.123487</td>\n",
              "      <td>-0.062456</td>\n",
              "      <td>0.087439</td>\n",
              "      <td>2.449980e-02</td>\n",
              "      <td>0.004226</td>\n",
              "      <td>0.073058</td>\n",
              "      <td>-0.171499</td>\n",
              "      <td>-0.085749</td>\n",
              "      <td>-6.726728e-02</td>\n",
              "      <td>-0.075011</td>\n",
              "      <td>-0.071211</td>\n",
              "      <td>1.000000</td>\n",
              "      <td>-0.111550</td>\n",
              "      <td>-0.075011</td>\n",
              "      <td>0.746577</td>\n",
              "      <td>-0.102202</td>\n",
              "      <td>-0.095783</td>\n",
              "      <td>-0.058824</td>\n",
              "      <td>-0.071211</td>\n",
              "      <td>-0.095783</td>\n",
              "      <td>-8.915787e-02</td>\n",
              "      <td>-0.043916</td>\n",
              "      <td>-0.078689</td>\n",
              "      <td>0.170445</td>\n",
              "      <td>0.066287</td>\n",
              "      <td>-0.066287</td>\n",
              "    </tr>\n",
              "    <tr>\n",
              "      <th>Call Reason_Make Payment</th>\n",
              "      <td>0.004469</td>\n",
              "      <td>-0.008614</td>\n",
              "      <td>-0.008614</td>\n",
              "      <td>-7.391405e-02</td>\n",
              "      <td>0.067034</td>\n",
              "      <td>0.145212</td>\n",
              "      <td>-0.325222</td>\n",
              "      <td>-0.162611</td>\n",
              "      <td>-1.275625e-01</td>\n",
              "      <td>-0.142247</td>\n",
              "      <td>-0.135041</td>\n",
              "      <td>-0.111550</td>\n",
              "      <td>1.000000</td>\n",
              "      <td>-0.142247</td>\n",
              "      <td>-0.083281</td>\n",
              "      <td>-0.193812</td>\n",
              "      <td>-0.181638</td>\n",
              "      <td>-0.111550</td>\n",
              "      <td>-0.135041</td>\n",
              "      <td>-0.181638</td>\n",
              "      <td>2.182602e-01</td>\n",
              "      <td>0.393691</td>\n",
              "      <td>0.705413</td>\n",
              "      <td>-0.205688</td>\n",
              "      <td>0.010755</td>\n",
              "      <td>-0.010755</td>\n",
              "    </tr>\n",
              "    <tr>\n",
              "      <th>Call Reason_Service Question</th>\n",
              "      <td>-0.031873</td>\n",
              "      <td>0.024617</td>\n",
              "      <td>0.024617</td>\n",
              "      <td>3.976214e-02</td>\n",
              "      <td>0.014209</td>\n",
              "      <td>0.066260</td>\n",
              "      <td>-0.218692</td>\n",
              "      <td>-0.109346</td>\n",
              "      <td>-8.577797e-02</td>\n",
              "      <td>-0.095652</td>\n",
              "      <td>-0.090807</td>\n",
              "      <td>-0.075011</td>\n",
              "      <td>-0.142247</td>\n",
              "      <td>1.000000</td>\n",
              "      <td>-0.056001</td>\n",
              "      <td>-0.130326</td>\n",
              "      <td>-0.122140</td>\n",
              "      <td>-0.075011</td>\n",
              "      <td>-0.090807</td>\n",
              "      <td>0.289348</td>\n",
              "      <td>-1.136924e-01</td>\n",
              "      <td>-0.056001</td>\n",
              "      <td>-0.100343</td>\n",
              "      <td>0.314347</td>\n",
              "      <td>-0.021245</td>\n",
              "      <td>0.021245</td>\n",
              "    </tr>\n",
              "    <tr>\n",
              "      <th>Call Resolution_Activate Handset</th>\n",
              "      <td>0.140326</td>\n",
              "      <td>-0.074605</td>\n",
              "      <td>0.023314</td>\n",
              "      <td>-6.401844e-02</td>\n",
              "      <td>0.017355</td>\n",
              "      <td>0.011230</td>\n",
              "      <td>-0.128037</td>\n",
              "      <td>-0.064018</td>\n",
              "      <td>-5.022020e-02</td>\n",
              "      <td>-0.056001</td>\n",
              "      <td>-0.053164</td>\n",
              "      <td>0.746577</td>\n",
              "      <td>-0.083281</td>\n",
              "      <td>-0.056001</td>\n",
              "      <td>1.000000</td>\n",
              "      <td>-0.076302</td>\n",
              "      <td>-0.071509</td>\n",
              "      <td>-0.043916</td>\n",
              "      <td>-0.053164</td>\n",
              "      <td>-0.071509</td>\n",
              "      <td>-6.656320e-02</td>\n",
              "      <td>-0.032787</td>\n",
              "      <td>-0.058747</td>\n",
              "      <td>-0.080978</td>\n",
              "      <td>-0.029111</td>\n",
              "      <td>0.029111</td>\n",
              "    </tr>\n",
              "    <tr>\n",
              "      <th>Call Resolution_Add Minutes</th>\n",
              "      <td>0.010169</td>\n",
              "      <td>0.186187</td>\n",
              "      <td>0.138212</td>\n",
              "      <td>1.097778e-01</td>\n",
              "      <td>0.076911</td>\n",
              "      <td>0.013754</td>\n",
              "      <td>0.454794</td>\n",
              "      <td>-0.148984</td>\n",
              "      <td>-1.168727e-01</td>\n",
              "      <td>-0.130326</td>\n",
              "      <td>0.122422</td>\n",
              "      <td>-0.102202</td>\n",
              "      <td>-0.193812</td>\n",
              "      <td>-0.130326</td>\n",
              "      <td>-0.076302</td>\n",
              "      <td>1.000000</td>\n",
              "      <td>-0.166416</td>\n",
              "      <td>-0.102202</td>\n",
              "      <td>-0.123725</td>\n",
              "      <td>-0.166416</td>\n",
              "      <td>-1.549063e-01</td>\n",
              "      <td>-0.076302</td>\n",
              "      <td>-0.136717</td>\n",
              "      <td>-0.188452</td>\n",
              "      <td>-0.224989</td>\n",
              "      <td>0.224989</td>\n",
              "    </tr>\n",
              "    <tr>\n",
              "      <th>Call Resolution_Add Text</th>\n",
              "      <td>-0.021238</td>\n",
              "      <td>0.113662</td>\n",
              "      <td>0.063411</td>\n",
              "      <td>2.299722e-01</td>\n",
              "      <td>-0.000405</td>\n",
              "      <td>0.037458</td>\n",
              "      <td>0.410665</td>\n",
              "      <td>-0.139626</td>\n",
              "      <td>-1.095316e-01</td>\n",
              "      <td>-0.122140</td>\n",
              "      <td>0.141872</td>\n",
              "      <td>-0.095783</td>\n",
              "      <td>-0.181638</td>\n",
              "      <td>-0.122140</td>\n",
              "      <td>-0.071509</td>\n",
              "      <td>-0.166416</td>\n",
              "      <td>1.000000</td>\n",
              "      <td>-0.095783</td>\n",
              "      <td>-0.115953</td>\n",
              "      <td>-0.155963</td>\n",
              "      <td>-1.451762e-01</td>\n",
              "      <td>-0.071509</td>\n",
              "      <td>-0.128130</td>\n",
              "      <td>-0.176614</td>\n",
              "      <td>-0.087020</td>\n",
              "      <td>0.087020</td>\n",
              "    </tr>\n",
              "    <tr>\n",
              "      <th>Call Resolution_Cancel Service</th>\n",
              "      <td>0.135767</td>\n",
              "      <td>-0.062456</td>\n",
              "      <td>0.087439</td>\n",
              "      <td>2.449980e-02</td>\n",
              "      <td>-0.071850</td>\n",
              "      <td>0.073058</td>\n",
              "      <td>-0.171499</td>\n",
              "      <td>0.355247</td>\n",
              "      <td>-6.726728e-02</td>\n",
              "      <td>0.293223</td>\n",
              "      <td>-0.071211</td>\n",
              "      <td>-0.058824</td>\n",
              "      <td>-0.111550</td>\n",
              "      <td>-0.075011</td>\n",
              "      <td>-0.043916</td>\n",
              "      <td>-0.102202</td>\n",
              "      <td>-0.095783</td>\n",
              "      <td>1.000000</td>\n",
              "      <td>-0.071211</td>\n",
              "      <td>-0.095783</td>\n",
              "      <td>-8.915787e-02</td>\n",
              "      <td>-0.043916</td>\n",
              "      <td>-0.078689</td>\n",
              "      <td>-0.108465</td>\n",
              "      <td>-0.003899</td>\n",
              "      <td>0.003899</td>\n",
              "    </tr>\n",
              "    <tr>\n",
              "      <th>Call Resolution_Change Plan</th>\n",
              "      <td>-0.048234</td>\n",
              "      <td>0.069560</td>\n",
              "      <td>0.006049</td>\n",
              "      <td>8.304548e-02</td>\n",
              "      <td>0.060375</td>\n",
              "      <td>0.050985</td>\n",
              "      <td>-0.207614</td>\n",
              "      <td>-0.103807</td>\n",
              "      <td>2.605849e-01</td>\n",
              "      <td>0.221238</td>\n",
              "      <td>0.348276</td>\n",
              "      <td>-0.071211</td>\n",
              "      <td>-0.135041</td>\n",
              "      <td>-0.090807</td>\n",
              "      <td>-0.053164</td>\n",
              "      <td>-0.123725</td>\n",
              "      <td>-0.115953</td>\n",
              "      <td>-0.071211</td>\n",
              "      <td>1.000000</td>\n",
              "      <td>-0.115953</td>\n",
              "      <td>-1.079332e-01</td>\n",
              "      <td>-0.053164</td>\n",
              "      <td>-0.095260</td>\n",
              "      <td>-0.131306</td>\n",
              "      <td>-0.106679</td>\n",
              "      <td>0.106679</td>\n",
              "    </tr>\n",
              "    <tr>\n",
              "      <th>Call Resolution_Credit Account</th>\n",
              "      <td>-0.111809</td>\n",
              "      <td>0.113662</td>\n",
              "      <td>0.113662</td>\n",
              "      <td>1.314127e-01</td>\n",
              "      <td>0.101611</td>\n",
              "      <td>-0.014407</td>\n",
              "      <td>-0.279252</td>\n",
              "      <td>0.303892</td>\n",
              "      <td>1.610759e-01</td>\n",
              "      <td>0.124753</td>\n",
              "      <td>-0.115953</td>\n",
              "      <td>-0.095783</td>\n",
              "      <td>-0.181638</td>\n",
              "      <td>0.289348</td>\n",
              "      <td>-0.071509</td>\n",
              "      <td>-0.166416</td>\n",
              "      <td>-0.155963</td>\n",
              "      <td>-0.095783</td>\n",
              "      <td>-0.115953</td>\n",
              "      <td>1.000000</td>\n",
              "      <td>-1.451762e-01</td>\n",
              "      <td>-0.071509</td>\n",
              "      <td>-0.128130</td>\n",
              "      <td>-0.176614</td>\n",
              "      <td>0.054154</td>\n",
              "      <td>-0.054154</td>\n",
              "    </tr>\n",
              "    <tr>\n",
              "      <th>Call Resolution_Explain Bill (no changes made)</th>\n",
              "      <td>-0.012616</td>\n",
              "      <td>0.087091</td>\n",
              "      <td>0.034079</td>\n",
              "      <td>1.731532e-17</td>\n",
              "      <td>0.075591</td>\n",
              "      <td>0.173265</td>\n",
              "      <td>-0.259938</td>\n",
              "      <td>0.181956</td>\n",
              "      <td>1.835207e-01</td>\n",
              "      <td>0.059947</td>\n",
              "      <td>-0.107933</td>\n",
              "      <td>-0.089158</td>\n",
              "      <td>0.218260</td>\n",
              "      <td>-0.113692</td>\n",
              "      <td>-0.066563</td>\n",
              "      <td>-0.154906</td>\n",
              "      <td>-0.145176</td>\n",
              "      <td>-0.089158</td>\n",
              "      <td>-0.107933</td>\n",
              "      <td>-0.145176</td>\n",
              "      <td>1.000000e+00</td>\n",
              "      <td>-0.066563</td>\n",
              "      <td>-0.119268</td>\n",
              "      <td>-0.164399</td>\n",
              "      <td>0.065010</td>\n",
              "      <td>-0.065010</td>\n",
              "    </tr>\n",
              "    <tr>\n",
              "      <th>Call Resolution_Phone Disconnect</th>\n",
              "      <td>-0.020119</td>\n",
              "      <td>-0.172525</td>\n",
              "      <td>0.023314</td>\n",
              "      <td>-6.401844e-02</td>\n",
              "      <td>-0.082040</td>\n",
              "      <td>0.011230</td>\n",
              "      <td>-0.128037</td>\n",
              "      <td>-0.064018</td>\n",
              "      <td>-5.022020e-02</td>\n",
              "      <td>-0.056001</td>\n",
              "      <td>-0.053164</td>\n",
              "      <td>-0.043916</td>\n",
              "      <td>0.393691</td>\n",
              "      <td>-0.056001</td>\n",
              "      <td>-0.032787</td>\n",
              "      <td>-0.076302</td>\n",
              "      <td>-0.071509</td>\n",
              "      <td>-0.043916</td>\n",
              "      <td>-0.053164</td>\n",
              "      <td>-0.071509</td>\n",
              "      <td>-6.656320e-02</td>\n",
              "      <td>1.000000</td>\n",
              "      <td>-0.058747</td>\n",
              "      <td>-0.080978</td>\n",
              "      <td>0.062588</td>\n",
              "      <td>-0.062588</td>\n",
              "    </tr>\n",
              "    <tr>\n",
              "      <th>Call Resolution_Process Payment</th>\n",
              "      <td>0.011864</td>\n",
              "      <td>0.041774</td>\n",
              "      <td>-0.016710</td>\n",
              "      <td>-1.147079e-01</td>\n",
              "      <td>0.090461</td>\n",
              "      <td>0.080484</td>\n",
              "      <td>-0.229416</td>\n",
              "      <td>-0.114708</td>\n",
              "      <td>-8.998425e-02</td>\n",
              "      <td>-0.100343</td>\n",
              "      <td>-0.095260</td>\n",
              "      <td>-0.078689</td>\n",
              "      <td>0.705413</td>\n",
              "      <td>-0.100343</td>\n",
              "      <td>-0.058747</td>\n",
              "      <td>-0.136717</td>\n",
              "      <td>-0.128130</td>\n",
              "      <td>-0.078689</td>\n",
              "      <td>-0.095260</td>\n",
              "      <td>-0.128130</td>\n",
              "      <td>-1.192676e-01</td>\n",
              "      <td>-0.058747</td>\n",
              "      <td>1.000000</td>\n",
              "      <td>-0.145095</td>\n",
              "      <td>0.002608</td>\n",
              "      <td>-0.002608</td>\n",
              "    </tr>\n",
              "    <tr>\n",
              "      <th>Call Resolution_Transfer (Other Dept)</th>\n",
              "      <td>0.008806</td>\n",
              "      <td>-0.391555</td>\n",
              "      <td>-0.391555</td>\n",
              "      <td>-3.614032e-01</td>\n",
              "      <td>-0.272764</td>\n",
              "      <td>-0.340744</td>\n",
              "      <td>0.225877</td>\n",
              "      <td>-0.158114</td>\n",
              "      <td>-1.240347e-01</td>\n",
              "      <td>-0.138313</td>\n",
              "      <td>-0.131306</td>\n",
              "      <td>0.170445</td>\n",
              "      <td>-0.205688</td>\n",
              "      <td>0.314347</td>\n",
              "      <td>-0.080978</td>\n",
              "      <td>-0.188452</td>\n",
              "      <td>-0.176614</td>\n",
              "      <td>-0.108465</td>\n",
              "      <td>-0.131306</td>\n",
              "      <td>-0.176614</td>\n",
              "      <td>-1.643990e-01</td>\n",
              "      <td>-0.080978</td>\n",
              "      <td>-0.145095</td>\n",
              "      <td>1.000000</td>\n",
              "      <td>0.251642</td>\n",
              "      <td>-0.251642</td>\n",
              "    </tr>\n",
              "    <tr>\n",
              "      <th>Agent Role_Tier 1</th>\n",
              "      <td>-0.000769</td>\n",
              "      <td>-0.222732</td>\n",
              "      <td>-0.222732</td>\n",
              "      <td>-1.250485e-01</td>\n",
              "      <td>-0.125791</td>\n",
              "      <td>-0.169497</td>\n",
              "      <td>-0.079576</td>\n",
              "      <td>0.045472</td>\n",
              "      <td>1.114728e-01</td>\n",
              "      <td>-0.021245</td>\n",
              "      <td>-0.047203</td>\n",
              "      <td>0.066287</td>\n",
              "      <td>0.010755</td>\n",
              "      <td>-0.021245</td>\n",
              "      <td>-0.029111</td>\n",
              "      <td>-0.224989</td>\n",
              "      <td>-0.087020</td>\n",
              "      <td>-0.003899</td>\n",
              "      <td>-0.106679</td>\n",
              "      <td>0.054154</td>\n",
              "      <td>6.500959e-02</td>\n",
              "      <td>0.062588</td>\n",
              "      <td>0.002608</td>\n",
              "      <td>0.251642</td>\n",
              "      <td>1.000000</td>\n",
              "      <td>-1.000000</td>\n",
              "    </tr>\n",
              "    <tr>\n",
              "      <th>Agent Role_Tier 2</th>\n",
              "      <td>0.000769</td>\n",
              "      <td>0.222732</td>\n",
              "      <td>0.222732</td>\n",
              "      <td>1.250485e-01</td>\n",
              "      <td>0.125791</td>\n",
              "      <td>0.169497</td>\n",
              "      <td>0.079576</td>\n",
              "      <td>-0.045472</td>\n",
              "      <td>-1.114728e-01</td>\n",
              "      <td>0.021245</td>\n",
              "      <td>0.047203</td>\n",
              "      <td>-0.066287</td>\n",
              "      <td>-0.010755</td>\n",
              "      <td>0.021245</td>\n",
              "      <td>0.029111</td>\n",
              "      <td>0.224989</td>\n",
              "      <td>0.087020</td>\n",
              "      <td>0.003899</td>\n",
              "      <td>0.106679</td>\n",
              "      <td>-0.054154</td>\n",
              "      <td>-6.500959e-02</td>\n",
              "      <td>-0.062588</td>\n",
              "      <td>-0.002608</td>\n",
              "      <td>-0.251642</td>\n",
              "      <td>-1.000000</td>\n",
              "      <td>1.000000</td>\n",
              "    </tr>\n",
              "  </tbody>\n",
              "</table>\n",
              "</div>"
            ],
            "text/plain": [
              "                                                Agent ID  ...  Agent Role_Tier 2\n",
              "Agent ID                                        1.000000  ...           0.000769\n",
              "1. Overall Experience?                          0.030279  ...           0.222732\n",
              "2a. Agent Quality of Service                    0.042449  ...           0.222732\n",
              "2b. Resolve Issue                              -0.073596  ...           0.125048\n",
              "2c. Courteous                                   0.067010  ...           0.125791\n",
              "2d. Knowledgeable                              -0.064548  ...           0.169497\n",
              "Call Reason_Add Services                        0.007956  ...           0.079576\n",
              "Call Reason_Billing Dispute                     0.009945  ...          -0.045472\n",
              "Call Reason_Billing Question                   -0.000780  ...          -0.111473\n",
              "Call Reason_Cancel Service                     -0.111596  ...           0.021245\n",
              "Call Reason_Change Plan                         0.014206  ...           0.047203\n",
              "Call Reason_Handset Question                    0.123487  ...          -0.066287\n",
              "Call Reason_Make Payment                        0.004469  ...          -0.010755\n",
              "Call Reason_Service Question                   -0.031873  ...           0.021245\n",
              "Call Resolution_Activate Handset                0.140326  ...           0.029111\n",
              "Call Resolution_Add Minutes                     0.010169  ...           0.224989\n",
              "Call Resolution_Add Text                       -0.021238  ...           0.087020\n",
              "Call Resolution_Cancel Service                  0.135767  ...           0.003899\n",
              "Call Resolution_Change Plan                    -0.048234  ...           0.106679\n",
              "Call Resolution_Credit Account                 -0.111809  ...          -0.054154\n",
              "Call Resolution_Explain Bill (no changes made) -0.012616  ...          -0.065010\n",
              "Call Resolution_Phone Disconnect               -0.020119  ...          -0.062588\n",
              "Call Resolution_Process Payment                 0.011864  ...          -0.002608\n",
              "Call Resolution_Transfer (Other Dept)           0.008806  ...          -0.251642\n",
              "Agent Role_Tier 1                              -0.000769  ...          -1.000000\n",
              "Agent Role_Tier 2                               0.000769  ...           1.000000\n",
              "\n",
              "[26 rows x 26 columns]"
            ]
          },
          "metadata": {
            "tags": []
          },
          "execution_count": 33
        }
      ]
    },
    {
      "cell_type": "markdown",
      "metadata": {
        "id": "gq4LOJesVtiu"
      },
      "source": [
        "# Logistic Regression"
      ]
    },
    {
      "cell_type": "markdown",
      "metadata": {
        "id": "m27rP36iV-HY"
      },
      "source": [
        "I will check multiable models to get the most accuret and coherent model.\n",
        "* the independent variable is = overall experiance\n",
        "* the dependent variable is = all other variable \n",
        "  "
      ]
    },
    {
      "cell_type": "markdown",
      "metadata": {
        "id": "06YputImbtNZ"
      },
      "source": [
        "**Hypothsis test are :**\n",
        "\n",
        "1- there is positive strong relationship between overall experiance and agent quality of services.\n",
        "\n",
        "2- there is positive strong relationship between overall experiance and Resolve Issue.\n",
        "\n",
        "3- there is positive strong relationship between overall experiance and Courteous.\n",
        "\n",
        "4- there is positive strong relationship between overall experiance and Knowledgeable."
      ]
    },
    {
      "cell_type": "code",
      "metadata": {
        "colab": {
          "base_uri": "https://localhost:8080/"
        },
        "id": "pzX_K25PQoSp",
        "outputId": "c09f0fa2-851e-4c7d-e6d0-deec45b6f73b"
      },
      "source": [
        "# as we prepared the data i will add it to the model\n",
        "classifier = LogisticRegression(random_state=0)\n",
        "classifier.fit(X_train, y_train)"
      ],
      "execution_count": 34,
      "outputs": [
        {
          "output_type": "execute_result",
          "data": {
            "text/plain": [
              "LogisticRegression(C=1.0, class_weight=None, dual=False, fit_intercept=True,\n",
              "                   intercept_scaling=1, l1_ratio=None, max_iter=100,\n",
              "                   multi_class='auto', n_jobs=None, penalty='l2',\n",
              "                   random_state=0, solver='lbfgs', tol=0.0001, verbose=0,\n",
              "                   warm_start=False)"
            ]
          },
          "metadata": {
            "tags": []
          },
          "execution_count": 34
        }
      ]
    },
    {
      "cell_type": "code",
      "metadata": {
        "colab": {
          "base_uri": "https://localhost:8080/"
        },
        "id": "saZPIjK2Q26j",
        "outputId": "70653864-2cba-49d8-e1c2-1fc108a66d5f"
      },
      "source": [
        "# see the overall accuracy of the results.\n",
        "classifier.score(X_train,y_train)"
      ],
      "execution_count": 35,
      "outputs": [
        {
          "output_type": "execute_result",
          "data": {
            "text/plain": [
              "0.93"
            ]
          },
          "metadata": {
            "tags": []
          },
          "execution_count": 35
        }
      ]
    },
    {
      "cell_type": "code",
      "metadata": {
        "colab": {
          "base_uri": "https://localhost:8080/"
        },
        "id": "otV3NSH5Qt7R",
        "outputId": "25b2848f-f149-4944-c684-84a6a9ac176c"
      },
      "source": [
        "# create the confusion matrix to see the accuracy of the model\n",
        "# by using the test split as indicator for prediction.\n",
        "y_pred = classifier.predict(X_test)\n",
        "from sklearn.metrics import confusion_matrix\n",
        "confusion_matrix = confusion_matrix(y_test, y_pred)\n",
        "print(confusion_matrix)"
      ],
      "execution_count": 36,
      "outputs": [
        {
          "output_type": "stream",
          "text": [
            "[[ 6  2]\n",
            " [ 0 18]]\n"
          ],
          "name": "stdout"
        }
      ]
    },
    {
      "cell_type": "code",
      "metadata": {
        "colab": {
          "base_uri": "https://localhost:8080/"
        },
        "id": "fa_vqibrQxPP",
        "outputId": "fc783577-5ef2-4e31-fcc2-854695a4da73"
      },
      "source": [
        "print('Accuracy of logistic regression classifier on test set: {:.2f}'.format(classifier.score(X_test, y_test)))"
      ],
      "execution_count": 37,
      "outputs": [
        {
          "output_type": "stream",
          "text": [
            "Accuracy of logistic regression classifier on test set: 0.92\n"
          ],
          "name": "stdout"
        }
      ]
    },
    {
      "cell_type": "code",
      "metadata": {
        "colab": {
          "base_uri": "https://localhost:8080/"
        },
        "id": "6XN6LDp-0xuz",
        "outputId": "db4ba1a9-77e2-4066-f17e-7792a59f818f"
      },
      "source": [
        "# i will use different library package to check the accuracy and see in more detials what are the \n",
        "# most significant variables.\n",
        "X2 = sm.add_constant(X)\n",
        "est = sm.OLS(y, X2)\n",
        "est2 = est.fit()\n",
        "print(est2.summary())"
      ],
      "execution_count": 38,
      "outputs": [
        {
          "output_type": "stream",
          "text": [
            "                              OLS Regression Results                              \n",
            "==================================================================================\n",
            "Dep. Variable:     1. Overall Experience?   R-squared:                       0.689\n",
            "Model:                                OLS   Adj. R-squared:                  0.626\n",
            "Method:                     Least Squares   F-statistic:                     10.98\n",
            "Date:                    Thu, 03 Jun 2021   Prob (F-statistic):           5.71e-18\n",
            "Time:                            11:31:45   Log-Likelihood:                -7.9709\n",
            "No. Observations:                     126   AIC:                             59.94\n",
            "Df Residuals:                         104   BIC:                             122.3\n",
            "Df Model:                              21                                         \n",
            "Covariance Type:                nonrobust                                         \n",
            "==================================================================================================================\n",
            "                                                     coef    std err          t      P>|t|      [0.025      0.975]\n",
            "------------------------------------------------------------------------------------------------------------------\n",
            "const                                              0.0799      0.057      1.409      0.162      -0.033       0.192\n",
            "2a. Agent Quality of Service                      -0.2218      0.072     -3.069      0.003      -0.365      -0.078\n",
            "2b. Resolve Issue                                  0.0782      0.066      1.189      0.237      -0.052       0.209\n",
            "2c. Courteous                                      0.6910      0.061     11.320      0.000       0.570       0.812\n",
            "2d. Knowledgeable                                  0.2033      0.078      2.608      0.010       0.049       0.358\n",
            "Call Reason_Add Services                          -0.0437      0.105     -0.415      0.679      -0.253       0.165\n",
            "Call Reason_Billing Dispute                        0.0157      0.101      0.156      0.877      -0.185       0.216\n",
            "Call Reason_Billing Question                      -0.0367      0.107     -0.344      0.732      -0.248       0.175\n",
            "Call Reason_Cancel Service                         0.0194      0.101      0.193      0.848      -0.180       0.219\n",
            "Call Reason_Change Plan                           -0.1601      0.109     -1.463      0.147      -0.377       0.057\n",
            "Call Reason_Handset Question                       0.2423      0.190      1.276      0.205      -0.134       0.619\n",
            "Call Reason_Make Payment                          -0.0679      0.148     -0.459      0.647      -0.361       0.225\n",
            "Call Reason_Service Question                       0.1109      0.101      1.100      0.274      -0.089       0.311\n",
            "Call Resolution_Activate Handset                  -0.4056      0.233     -1.745      0.084      -0.867       0.055\n",
            "Call Resolution_Add Minutes                        0.2565      0.123      2.089      0.039       0.013       0.500\n",
            "Call Resolution_Add Text                           0.2190      0.125      1.756      0.082      -0.028       0.466\n",
            "Call Resolution_Cancel Service                     0.0033      0.133      0.025      0.980      -0.260       0.266\n",
            "Call Resolution_Change Plan                        0.1211      0.114      1.064      0.290      -0.105       0.347\n",
            "Call Resolution_Credit Account                     0.0822      0.094      0.873      0.385      -0.105       0.269\n",
            "Call Resolution_Explain Bill (no changes made)     0.0849      0.103      0.820      0.414      -0.120       0.290\n",
            "Call Resolution_Phone Disconnect                  -0.1590      0.190     -0.839      0.403      -0.535       0.217\n",
            "Call Resolution_Process Payment                    0.0661      0.156      0.424      0.673      -0.243       0.375\n",
            "Call Resolution_Transfer (Other Dept)             -0.1885      0.111     -1.699      0.092      -0.409       0.031\n",
            "Agent Role_Tier 1                                  0.0126      0.037      0.339      0.735      -0.061       0.086\n",
            "Agent Role_Tier 2                                  0.0673      0.043      1.570      0.119      -0.018       0.152\n",
            "==============================================================================\n",
            "Omnibus:                       24.706   Durbin-Watson:                   1.946\n",
            "Prob(Omnibus):                  0.000   Jarque-Bera (JB):               39.079\n",
            "Skew:                          -0.936   Prob(JB):                     3.27e-09\n",
            "Kurtosis:                       4.985   Cond. No.                     2.96e+16\n",
            "==============================================================================\n",
            "\n",
            "Warnings:\n",
            "[1] Standard Errors assume that the covariance matrix of the errors is correctly specified.\n",
            "[2] The smallest eigenvalue is 5.66e-31. This might indicate that there are\n",
            "strong multicollinearity problems or that the design matrix is singular.\n"
          ],
          "name": "stdout"
        }
      ]
    },
    {
      "cell_type": "markdown",
      "metadata": {
        "id": "q66OcpxQa1jo"
      },
      "source": [
        "* the results indicats that R^2 =around 70% which mean those variables represent and explain around 70% of the indpendant variable which is overall experiance.\n",
        "\n",
        "* as the model contian too many variables that are not significant in term of their p-value so we will look at the significant one only to get the more accuret results and well persentation."
      ]
    },
    {
      "cell_type": "code",
      "metadata": {
        "id": "GJy_8tuSsIP2"
      },
      "source": [
        "#by trying different and many depentant variables those are the most significant in term of overall experiance.\n",
        "X_2= df_final[['2c. Courteous','2b. Resolve Issue','2d. Knowledgeable']]\n",
        "y_2= df_final.iloc[:,2]"
      ],
      "execution_count": 39,
      "outputs": []
    },
    {
      "cell_type": "code",
      "metadata": {
        "colab": {
          "base_uri": "https://localhost:8080/"
        },
        "id": "ZmLBRuektlO_",
        "outputId": "c9bbdc90-6826-4e83-96ec-d5612819773f"
      },
      "source": [
        "X3 = sm.add_constant(X_2)\n",
        "est = sm.OLS(y_2, X3)\n",
        "est2 = est.fit()\n",
        "print(est2.summary())"
      ],
      "execution_count": 40,
      "outputs": [
        {
          "output_type": "stream",
          "text": [
            "                              OLS Regression Results                              \n",
            "==================================================================================\n",
            "Dep. Variable:     1. Overall Experience?   R-squared:                       0.605\n",
            "Model:                                OLS   Adj. R-squared:                  0.596\n",
            "Method:                     Least Squares   F-statistic:                     62.37\n",
            "Date:                    Thu, 03 Jun 2021   Prob (F-statistic):           1.63e-24\n",
            "Time:                            11:31:45   Log-Likelihood:                -23.002\n",
            "No. Observations:                     126   AIC:                             54.00\n",
            "Df Residuals:                         122   BIC:                             65.35\n",
            "Df Model:                               3                                         \n",
            "Covariance Type:                nonrobust                                         \n",
            "=====================================================================================\n",
            "                        coef    std err          t      P>|t|      [0.025      0.975]\n",
            "-------------------------------------------------------------------------------------\n",
            "const                -0.0409      0.067     -0.607      0.545      -0.174       0.093\n",
            "2c. Courteous         0.7276      0.058     12.562      0.000       0.613       0.842\n",
            "2b. Resolve Issue     0.1686      0.058      2.902      0.004       0.054       0.284\n",
            "2d. Knowledgeable     0.1455      0.061      2.379      0.019       0.024       0.267\n",
            "==============================================================================\n",
            "Omnibus:                       17.932   Durbin-Watson:                   1.822\n",
            "Prob(Omnibus):                  0.000   Jarque-Bera (JB):               41.113\n",
            "Skew:                          -0.526   Prob(JB):                     1.18e-09\n",
            "Kurtosis:                       5.593   Cond. No.                         5.16\n",
            "==============================================================================\n",
            "\n",
            "Warnings:\n",
            "[1] Standard Errors assume that the covariance matrix of the errors is correctly specified.\n"
          ],
          "name": "stdout"
        }
      ]
    },
    {
      "cell_type": "markdown",
      "metadata": {
        "id": "v_HrBCE7eXmL"
      },
      "source": [
        "* the results indicats that R^2 are around 60%.\n",
        "* Courteous, Resolve Issue, and Knowledgeable are the main factors that affect the overall experiance.\n",
        "* the highest significant level is with courteouse, so the courteous factor affect the most overall experiance.\n",
        "* when the courteous increase by 1 the customer satisfaction increase 0.73 holding everything else constant."
      ]
    },
    {
      "cell_type": "markdown",
      "metadata": {
        "id": "9q90xdhw1oui"
      },
      "source": [
        "**Trying different model to see if the call resolution are representing the rate of resolve issue variable**"
      ]
    },
    {
      "cell_type": "code",
      "metadata": {
        "colab": {
          "base_uri": "https://localhost:8080/"
        },
        "id": "Sl1JCNLAR_pc",
        "outputId": "e74f3c51-f6be-47a4-836e-dfe7ebac6563"
      },
      "source": [
        "# build new data for the model\n",
        "df_Resolve_issue= df_final[['2b. Resolve Issue','Call Resolution_Process Payment','Call Resolution_Transfer (Other Dept)']]\n",
        "df_Resolve_issue.shape"
      ],
      "execution_count": 41,
      "outputs": [
        {
          "output_type": "execute_result",
          "data": {
            "text/plain": [
              "(126, 3)"
            ]
          },
          "metadata": {
            "tags": []
          },
          "execution_count": 41
        }
      ]
    },
    {
      "cell_type": "code",
      "metadata": {
        "id": "mnR6bGUUbPTx"
      },
      "source": [
        "X_3= df_Resolve_issue.iloc[:,1:3]\n",
        "y_3= df_Resolve_issue.iloc[:,0]"
      ],
      "execution_count": 42,
      "outputs": []
    },
    {
      "cell_type": "code",
      "metadata": {
        "colab": {
          "base_uri": "https://localhost:8080/"
        },
        "id": "1l8KS8_SbwR0",
        "outputId": "3ce6bd52-c4f2-4567-965d-927678a6e2f5"
      },
      "source": [
        "# create the model and fit it.\n",
        "X4 = sm.add_constant(X_3)\n",
        "est = sm.OLS(y_3, X4)\n",
        "est2 = est.fit()\n",
        "print(est2.summary())"
      ],
      "execution_count": 43,
      "outputs": [
        {
          "output_type": "stream",
          "text": [
            "                            OLS Regression Results                            \n",
            "==============================================================================\n",
            "Dep. Variable:      2b. Resolve Issue   R-squared:                       0.159\n",
            "Model:                            OLS   Adj. R-squared:                  0.145\n",
            "Method:                 Least Squares   F-statistic:                     11.64\n",
            "Date:                Thu, 03 Jun 2021   Prob (F-statistic):           2.35e-05\n",
            "Time:                        11:31:45   Log-Likelihood:                -73.109\n",
            "No. Observations:                 126   AIC:                             152.2\n",
            "Df Residuals:                     123   BIC:                             160.7\n",
            "Df Model:                           2                                         \n",
            "Covariance Type:            nonrobust                                         \n",
            "=========================================================================================================\n",
            "                                            coef    std err          t      P>|t|      [0.025      0.975]\n",
            "---------------------------------------------------------------------------------------------------------\n",
            "const                                     0.7742      0.045     17.065      0.000       0.684       0.864\n",
            "Call Resolution_Process Payment          -0.2742      0.134     -2.043      0.043      -0.540      -0.009\n",
            "Call Resolution_Transfer (Other Dept)    -0.4885      0.106     -4.621      0.000      -0.698      -0.279\n",
            "==============================================================================\n",
            "Omnibus:                       14.277   Durbin-Watson:                   1.993\n",
            "Prob(Omnibus):                  0.001   Jarque-Bera (JB):               12.691\n",
            "Skew:                          -0.696   Prob(JB):                      0.00175\n",
            "Kurtosis:                       2.306   Cond. No.                         3.61\n",
            "==============================================================================\n",
            "\n",
            "Warnings:\n",
            "[1] Standard Errors assume that the covariance matrix of the errors is correctly specified.\n"
          ],
          "name": "stdout"
        }
      ]
    },
    {
      "cell_type": "markdown",
      "metadata": {
        "id": "M00ry2rt_g9V"
      },
      "source": [
        "* The R^2 is around 0.15 which is very low and can not explain the indepeendent variable.\n",
        "* we can not use this model as it is not significant to use.\n"
      ]
    },
    {
      "cell_type": "markdown",
      "metadata": {
        "id": "dyjOrhDfhiMJ"
      },
      "source": [
        "# Conclusions\n",
        "\n"
      ]
    },
    {
      "cell_type": "markdown",
      "metadata": {
        "id": "xLXpAmFpEelH"
      },
      "source": [
        "**I can see many insights from the results , charts and models that i used during this project.**\n",
        "  \n",
        "  *As the main goal is to see the what are the main reason to decrease of customer satisfaction and increase the call volume so we should see what is the average rate for the main 4 factors. I found out that,  the mean of overall satisfaction is around 3.9 that is almost the same for agent quality of service and resolve issue, but it is around 4.0 for courteous and knowledgeable.*\n",
        "\n",
        "  \n",
        "**First**,\n",
        "\n",
        "*the main reason customer calling for is Adding new services to their account (33%) in the same time it is getting the highest level of unsatisfaction level. I  can say that indicats that customers are mainly calling for adding services but they didn't get the services as they expected* \n",
        "\n",
        "\n",
        "**Second**,\n",
        "\n",
        "*the courteouse of the agent plays significant role in customer satisfaction level . so when agent are more polite and courtrouse with the clinet that increase the satifaction level. In line with that, the courteouse could vary from day to day - as indicated in the chart - that could be for many reason could be the load of work that day.*\n",
        "\n",
        "**Third**,\n",
        "\n",
        "*when customer got transfered to other department that decrease the overall experiance, and the majorty of agents who are handlling that are Tiar 1 agents who are working for less that 60 days in the company. In addition, the satisfaction level are mainly decrease when they dealing with 0-30 Tiar 1 agents.*\n",
        "\n",
        "\n",
        "**Forth**,\n",
        "\n",
        "*the main attributes that affect the model of logistic regression are Courteous, Resolve Issue, and Knowledgeable. that means, wheen customers got a courteouse agent , who solved their issue and knowledgeable with all sevices that company provied that will signifacitly increase the customer satisfaction. moreover, the agent quality of services are not that important in the model.*\n",
        "\n",
        "*furthermore, we reject the fist hypothesis test with agent quality of services but acceprt the 3 others that mean there is positive stronge relationship.*\n",
        "\n",
        "\n",
        "\n",
        "\n",
        "**Recommendations**,\n",
        "\n",
        "As recommendation for that project.\n",
        "*  the company should make tiar 2 agent take more phone calls as they are more experiance than tiar 1. \n",
        "* the agents should solve the issue as soon as they arrive it with out transfer it to other department and the phone call should not disconnected while the resolve the issue cause that decrease the customer satifaction level.\n",
        "* the level of courteous should be constant for all days so the customer get the same servies all the time and the satisfaction level mintain the same.\n",
        "\n",
        "\n",
        "**limitation**,\n",
        "\n",
        "the main limitation of this project is the relativly small data set which could not fully represensentive for all the data.\n",
        "\n",
        "\n"
      ]
    }
  ]
}